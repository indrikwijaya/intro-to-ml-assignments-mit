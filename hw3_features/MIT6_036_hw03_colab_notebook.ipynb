{
 "cells": [
  {
   "cell_type": "markdown",
   "metadata": {
    "id": "_xIaEwCD406A"
   },
   "source": [
    "#MIT 6.036 Spring 2019: Homework 3#\n",
    "\n",
    "This colab notebook provides code and a framework for problems 1-7 of [the homework](https://openlearninglibrary.mit.edu/courses/course-v1:MITx+6.036+1T2019/courseware/Week3/week3_homework/).  You can work out your solutions here, then submit your results back on the homework page when ready.\n",
    "\n",
    "## <section>**Setup**</section>\n",
    "\n",
    "First, download the code distribution for this homework that contains test cases and helper functions.\n",
    "\n",
    "Run the next code block to download and import the code for this lab.\n"
   ]
  },
  {
   "cell_type": "code",
   "execution_count": 1,
   "metadata": {
    "colab": {
     "base_uri": "https://localhost:8080/"
    },
    "id": "vg6IEo8_lmhL",
    "outputId": "ffb638f0-f0cb-4730-89c1-968a54ca2c39"
   },
   "outputs": [
    {
     "name": "stdout",
     "output_type": "stream",
     "text": [
      "/Users/indrikwijaya/Documents/into-to-ml-assignments/code_and_data_for_hw3\r\n"
     ]
    }
   ],
   "source": [
    "!pwd"
   ]
  },
  {
   "cell_type": "code",
   "execution_count": 2,
   "metadata": {
    "colab": {
     "base_uri": "https://localhost:8080/"
    },
    "id": "2YM-_zLf9Bp-",
    "outputId": "c56b0bd4-0f04-47fe-83be-a5d87ed5b507"
   },
   "outputs": [
    {
     "name": "stdout",
     "output_type": "stream",
     "text": [
      "MIT6_036_hw03_colab_notebook.ipynb \u001b[31mhw3_part2_main.py\u001b[m\u001b[m\n",
      "\u001b[34m__pycache__\u001b[m\u001b[m                        \u001b[34mmnist\u001b[m\u001b[m\n",
      "\u001b[31mauto-mpg.tsv\u001b[m\u001b[m                       \u001b[31mreviews.tsv\u001b[m\u001b[m\n",
      "\u001b[31mcode_for_hw3_part1.py\u001b[m\u001b[m              \u001b[31mstopwords.txt\u001b[m\u001b[m\n",
      "\u001b[31mcode_for_hw3_part2.py\u001b[m\u001b[m\n",
      "mkdir: mnist: File exists\n",
      "mv: rename mnist to mnist/mnist: Invalid argument\n",
      "MIT6_036_hw03_colab_notebook.ipynb \u001b[31mhw3_part2_main.py\u001b[m\u001b[m\n",
      "\u001b[34m__pycache__\u001b[m\u001b[m                        \u001b[34mmnist\u001b[m\u001b[m\n",
      "\u001b[31mauto-mpg.tsv\u001b[m\u001b[m                       \u001b[31mreviews.tsv\u001b[m\u001b[m\n",
      "\u001b[31mcode_for_hw3_part1.py\u001b[m\u001b[m              \u001b[31mstopwords.txt\u001b[m\u001b[m\n",
      "\u001b[31mcode_for_hw3_part2.py\u001b[m\u001b[m\n",
      "Importing code_for_hw03\n",
      "Imported tidy_plot, plot_separator, plot_data, plot_nonlin_sep, cv, rv, y, positive, score\n",
      "Datasets: super_simple_separable_through_origin(), super_simple_separable(), xor(), xor_more()\n",
      "Tests for part 2: test_linear_classifier_with_features, mul, make_polynomial_feature_fun, \n",
      "                  test_with_features\n",
      "Also loaded: perceptron, one_hot_internal, test_one_hot\n",
      "Importing code_for_hw03 (part 2, imported as hw3)\n",
      "Imported tidy_plot, plot_separator, plot_data, plot_nonlin_sep, cv, rv, y, positive, score\n",
      "         xval_learning_alg, eval_classifier\n",
      "Tests: test_linear_classifier\n",
      "Dataset tools: load_auto_data, std_vals, standard, raw, one_hot, auto_data_and_labels\n",
      "               load_review_data, clean, extract_words, bag_of_words, extract_bow_feature_vectors\n",
      "               load_mnist_data, load_mnist_single\n"
     ]
    }
   ],
   "source": [
    "#!rm -rf code_and_data_for_hw3*\n",
    "#!rm -rf mnist\n",
    "#!wget --quiet https://introml_oll.odl.mit.edu/6.036/static/homework/hw03/code_and_data_for_hw3.zip\n",
    "!ls\n",
    "#!unzip code_and_data_for_hw3.zip\n",
    "#!mv code_and_data_for_hw3/* .\n",
    "!mkdir mnist\n",
    "!mv mnist* mnist/\n",
    "!ls\n",
    "from code_for_hw3_part1 import *\n",
    "import code_for_hw3_part2 as hw3"
   ]
  },
  {
   "cell_type": "code",
   "execution_count": 3,
   "metadata": {
    "colab": {
     "base_uri": "https://localhost:8080/"
    },
    "id": "2z1zuhqltjBy",
    "outputId": "150b58ce-7aee-475d-e18c-8e0b7d01ea22"
   },
   "outputs": [
    {
     "name": "stdout",
     "output_type": "stream",
     "text": [
      "Help on function tidy_plot in module code_for_hw3_part1:\n",
      "\n",
      "tidy_plot(xmin, xmax, ymin, ymax, center=False, title=None, xlabel=None, ylabel=None)\n",
      "\n"
     ]
    }
   ],
   "source": [
    "help(tidy_plot)"
   ]
  },
  {
   "cell_type": "markdown",
   "metadata": {
    "id": "xFxhrJ5XDlvb"
   },
   "source": [
    "# Feature Transformation"
   ]
  },
  {
   "cell_type": "markdown",
   "metadata": {
    "id": "_bhI4dQB1-UZ"
   },
   "source": [
    "## <section>**Running Perceptron**</section>\n",
    "\n",
    "In problems 1,2 and 3, you will have to run the Perceptron algorithm several times to obtain linear classifiers.\n",
    "We provide you with an implementation of the algorithm which you can use to obtain your results.\n",
    "\n",
    "The specifications for the `perceptron`method provided are:\n",
    "* `data` is a numpy array of dimension $d$ by $n$\n",
    "* `labels` is numpy array of dimension $1$ by $n$\n",
    "* `params` is a dictionary specifying extra parameters to this algorithm; your algorithm runs a number of iterations equal to $T$\n",
    "* `hook` is either None or a function that takes the tuple `(th, th0)` as an argument and displays the separator graphically. \n",
    "\n",
    "It should return a tuple of $\\theta$ (a $d$ by 1 array) and $\\theta_0$ (a 1 by 1 array).\n",
    "\n",
    "Note that you are free to modify the method. For example, a useful modification for this homework would be to make the method return the number of mistakes made on the input data, while it runs."
   ]
  },
  {
   "cell_type": "code",
   "execution_count": 4,
   "metadata": {
    "collapsed": true,
    "id": "VtYf8ysk-VQU"
   },
   "outputs": [],
   "source": [
    "# Perceptron algorithm with offset.\n",
    "# data is dimension d by n\n",
    "# labels is dimension 1 by n\n",
    "# T is a positive integer number of steps to run\n",
    "def perceptron(data, labels, params = {}, hook = None):\n",
    "    # if T not in params, default to 100\n",
    "    T = params.get('T', 50)\n",
    "    (d, n) = data.shape\n",
    "\n",
    "    theta = np.zeros((d, 1)); theta_0 = np.zeros((1, 1))\n",
    "    for t in range(T):\n",
    "        for i in range(n):\n",
    "            x = data[:,i:i+1]\n",
    "            y = labels[:,i:i+1]\n",
    "            if y * positive(x, theta, theta_0) <= 0.0:\n",
    "                theta = theta + y * x\n",
    "                theta_0 = theta_0 + y\n",
    "                if hook: hook((theta, theta_0))\n",
    "    return theta, theta_0\n",
    "\n",
    "def averaged_perceptron(data, labels, params = {}, hook = None):\n",
    "    T = params.get('T', 50)\n",
    "    (d, n) = data.shape\n",
    "\n",
    "    theta = np.zeros((d, 1)); theta_0 = np.zeros((1, 1))\n",
    "    theta_sum = theta.copy()\n",
    "    theta_0_sum = theta_0.copy()\n",
    "    for t in range(T):\n",
    "        for i in range(n):\n",
    "            x = data[:,i:i+1]\n",
    "            y = labels[:,i:i+1]\n",
    "            if y * positive(x, theta, theta_0) <= 0.0:\n",
    "                theta = theta + y * x\n",
    "                theta_0 = theta_0 + y\n",
    "                if hook: hook((theta, theta_0))\n",
    "            theta_sum = theta_sum + theta\n",
    "            theta_0_sum = theta_0_sum + theta_0\n",
    "    theta_avg = theta_sum / (T*n)\n",
    "    theta_0_avg = theta_0_sum / (T*n)\n",
    "    if hook: hook((theta_avg, theta_0_avg))\n",
    "    return theta_avg, theta_0_avg\n",
    "\n",
    "  \n",
    "def eval_classifier(learner, data_train, labels_train, data_test, labels_test):\n",
    "    th, th0 = learner(data_train, labels_train)\n",
    "    return score(data_test, labels_test, th, th0)/data_test.shape[1]\n",
    "\n",
    "def positive(x, th, th0):\n",
    "    return np.sign(th.T@x + th0)\n",
    "\n",
    "def score(data, labels, th, th0):\n",
    "    return np.sum(positive(data, th, th0) == labels)\n",
    "\n",
    "def xval_learning_alg(learner, data, labels, k):\n",
    "    _, n = data.shape\n",
    "    idx = list(range(n))\n",
    "    np.random.seed(0)\n",
    "    np.random.shuffle(idx)\n",
    "    data, labels = data[:,idx], labels[:,idx]\n",
    "\n",
    "    score_sum = 0\n",
    "    s_data = np.array_split(data, k, axis=1)\n",
    "    s_labels = np.array_split(labels, k, axis=1)\n",
    "    for i in range(k):\n",
    "        data_train = np.concatenate(s_data[:i] + s_data[i+1:], axis=1)\n",
    "        labels_train = np.concatenate(s_labels[:i] + s_labels[i+1:], axis=1)\n",
    "        data_test = np.array(s_data[i])\n",
    "        labels_test = np.array(s_labels[i])\n",
    "        score_sum += eval_classifier(learner, data_train, labels_train,\n",
    "                                              data_test, labels_test)\n",
    "    return score_sum/k"
   ]
  },
  {
   "cell_type": "code",
   "execution_count": 5,
   "metadata": {
    "colab": {
     "base_uri": "https://localhost:8080/"
    },
    "id": "3g96gm5hmQja",
    "outputId": "5d88eccd-7ee1-4ffb-e46d-9450d336e22b"
   },
   "outputs": [
    {
     "name": "stdout",
     "output_type": "stream",
     "text": [
      "[array([[-9.],\n",
      "       [18.]]), array([[-24.],\n",
      "       [ 37.]])] [array([[2.]]), array([[-3.]])]\n"
     ]
    }
   ],
   "source": [
    "theta_list = []\n",
    "theta0_list = []\n",
    "\n",
    "for datafn in (super_simple_separable_through_origin, super_simple_separable):\n",
    "  data, labels = datafn()\n",
    "  theta, theta0 = perceptron(data, labels, params = {'T':100}, hook = None)\n",
    "  theta_list.append(theta)\n",
    "  theta0_list.append(theta0)\n",
    "print(theta_list, theta0_list)"
   ]
  },
  {
   "cell_type": "code",
   "execution_count": 6,
   "metadata": {
    "colab": {
     "base_uri": "https://localhost:8080/"
    },
    "id": "RgAwkD02E18_",
    "outputId": "ef57d648-1baf-459d-b333-b976b1271c58"
   },
   "outputs": [
    {
     "name": "stdout",
     "output_type": "stream",
     "text": [
      "margin:  0.2683281572999747\n"
     ]
    }
   ],
   "source": [
    "# Qn 1\n",
    "data = ([[200, 800, 200, 800],\n",
    "             [0.2,  0.2,  0.8,  0.8]])\n",
    "labels = [[-1, -1, 1, 1]]\n",
    "\n",
    "# 1a)\n",
    "theta = np.array([0, 1, -0.5])\n",
    "\n",
    "def get_margin(data, labels, theta):\n",
    "  data_add_1 = np.vstack([data, [[1, 1, 1, 1]]])\n",
    "  \n",
    "  hypo = np.dot(theta.T, data_add_1)\n",
    "\n",
    "  margin = min(np.multiply(labels, hypo)/np.linalg.norm(theta))\n",
    "  if len(margin) > 0 :\n",
    "    margin = margin[0]\n",
    "  return margin\n",
    "\n",
    "print(\"margin: \", get_margin(data, labels, theta))"
   ]
  },
  {
   "cell_type": "code",
   "execution_count": 7,
   "metadata": {
    "colab": {
     "base_uri": "https://localhost:8080/",
     "height": 334.0
    },
    "id": "F2oKmC7cQeQa",
    "outputId": "237dbee5-7989-4866-f7a5-ce277ae078c4"
   },
   "outputs": [
    {
     "name": "stdout",
     "output_type": "stream",
     "text": [
      "maximum theoretical bounds:  8888911.666666672\n"
     ]
    },
    {
     "ename": "KeyboardInterrupt",
     "evalue": "",
     "traceback": [
      "\u001b[0;31m---------------------------------------------------------------------------\u001b[0m",
      "\u001b[0;31mKeyboardInterrupt\u001b[0m                         Traceback (most recent call last)",
      "\u001b[0;32m<ipython-input-7-88df45d95e84>\u001b[0m in \u001b[0;36m<module>\u001b[0;34m()\u001b[0m\n\u001b[1;32m     24\u001b[0m               \u001b[0mtheta_0\u001b[0m \u001b[0;34m=\u001b[0m \u001b[0mtheta_0\u001b[0m \u001b[0;34m+\u001b[0m \u001b[0my\u001b[0m\u001b[0;34m\u001b[0m\u001b[0;34m\u001b[0m\u001b[0m\n\u001b[1;32m     25\u001b[0m   \u001b[0;32mreturn\u001b[0m \u001b[0mmistakes\u001b[0m\u001b[0;34m\u001b[0m\u001b[0;34m\u001b[0m\u001b[0m\n\u001b[0;32m---> 26\u001b[0;31m \u001b[0mprint\u001b[0m\u001b[0;34m(\u001b[0m\u001b[0;34m'no of mistakes: '\u001b[0m\u001b[0;34m,\u001b[0m \u001b[0mget_mistakes\u001b[0m\u001b[0;34m(\u001b[0m\u001b[0mdata\u001b[0m\u001b[0;34m,\u001b[0m \u001b[0mlabels\u001b[0m\u001b[0;34m,\u001b[0m \u001b[0mtheta\u001b[0m\u001b[0;34m)\u001b[0m\u001b[0;34m)\u001b[0m\u001b[0;34m\u001b[0m\u001b[0;34m\u001b[0m\u001b[0m\n\u001b[0m",
      "\u001b[0;32m<ipython-input-7-88df45d95e84>\u001b[0m in \u001b[0;36mget_mistakes\u001b[0;34m(data, labels, theta)\u001b[0m\n\u001b[1;32m     22\u001b[0m           \u001b[0;32mif\u001b[0m \u001b[0my\u001b[0m \u001b[0;34m*\u001b[0m \u001b[0mpositive\u001b[0m\u001b[0;34m(\u001b[0m\u001b[0mx\u001b[0m\u001b[0;34m,\u001b[0m \u001b[0mtheta\u001b[0m\u001b[0;34m,\u001b[0m \u001b[0mtheta_0\u001b[0m\u001b[0;34m)\u001b[0m \u001b[0;34m<=\u001b[0m \u001b[0;36m0.0\u001b[0m\u001b[0;34m:\u001b[0m\u001b[0;34m\u001b[0m\u001b[0;34m\u001b[0m\u001b[0m\n\u001b[1;32m     23\u001b[0m               \u001b[0mtheta\u001b[0m \u001b[0;34m=\u001b[0m \u001b[0mtheta\u001b[0m \u001b[0;34m+\u001b[0m \u001b[0my\u001b[0m \u001b[0;34m*\u001b[0m \u001b[0mx\u001b[0m\u001b[0;34m\u001b[0m\u001b[0;34m\u001b[0m\u001b[0m\n\u001b[0;32m---> 24\u001b[0;31m               \u001b[0mtheta_0\u001b[0m \u001b[0;34m=\u001b[0m \u001b[0mtheta_0\u001b[0m \u001b[0;34m+\u001b[0m \u001b[0my\u001b[0m\u001b[0;34m\u001b[0m\u001b[0;34m\u001b[0m\u001b[0m\n\u001b[0m\u001b[1;32m     25\u001b[0m   \u001b[0;32mreturn\u001b[0m \u001b[0mmistakes\u001b[0m\u001b[0;34m\u001b[0m\u001b[0;34m\u001b[0m\u001b[0m\n\u001b[1;32m     26\u001b[0m \u001b[0mprint\u001b[0m\u001b[0;34m(\u001b[0m\u001b[0;34m'no of mistakes: '\u001b[0m\u001b[0;34m,\u001b[0m \u001b[0mget_mistakes\u001b[0m\u001b[0;34m(\u001b[0m\u001b[0mdata\u001b[0m\u001b[0;34m,\u001b[0m \u001b[0mlabels\u001b[0m\u001b[0;34m,\u001b[0m \u001b[0mtheta\u001b[0m\u001b[0;34m)\u001b[0m\u001b[0;34m)\u001b[0m\u001b[0;34m\u001b[0m\u001b[0;34m\u001b[0m\u001b[0m\n",
      "\u001b[0;31mKeyboardInterrupt\u001b[0m: "
     ],
     "output_type": "error"
    }
   ],
   "source": [
    "# 1b)\n",
    "def get_max_bounds(data, labels, theta):\n",
    "    data_add_1 = np.vstack([data, [[1, 1, 1, 1]]])\n",
    "    margin = get_margin(data, labels, theta)\n",
    "    possible_bounds = (np.linalg.norm(data_add_1, axis=0)/margin)**2\n",
    "    max_bounds = max(possible_bounds)\n",
    "    return max_bounds\n",
    "print('maximum theoretical bounds: ', get_max_bounds(data, labels, theta))\n",
    "\n",
    "# 1c)\n",
    "def get_mistakes(data, labels, theta):\n",
    "    max_bounds = get_max_bounds(data, labels, theta)\n",
    "    T = int(max_bounds)\n",
    "    (d, n) = np.array(data).shape\n",
    "    \n",
    "    theta = np.zeros((d, 1)); theta_0 = np.zeros((1, 1))\n",
    "    mistakes = 0\n",
    "    for t in range(T):\n",
    "        for i in range(n):\n",
    "            x = np.array(data)[:,i:i+1]\n",
    "            y = np.array(labels)[:,i:i+1]\n",
    "            if y * positive(x, theta, theta_0) <= 0.0:\n",
    "                theta = theta + y * x\n",
    "                theta_0 = theta_0 + y\n",
    "    return mistakes\n",
    "print('no of mistakes: ', get_mistakes(data, labels, theta))"
   ]
  },
  {
   "cell_type": "code",
   "execution_count": 8,
   "metadata": {
    "colab": {
     "base_uri": "https://localhost:8080/"
    },
    "id": "W1MS_H7mVY6p",
    "outputId": "4475413f-5296-42ca-fb8c-6f69fdbbb68e"
   },
   "outputs": [
    {
     "name": "stdout",
     "output_type": "stream",
     "text": [
      "margin:  0.00029999996250000706\n"
     ]
    },
    {
     "ename": "KeyboardInterrupt",
     "evalue": "",
     "traceback": [
      "\u001b[0;31m---------------------------------------------------------------------------\u001b[0m",
      "\u001b[0;31mKeyboardInterrupt\u001b[0m                         Traceback (most recent call last)",
      "\u001b[0;32m<ipython-input-8-783b31806d72>\u001b[0m in \u001b[0;36m<module>\u001b[0;34m()\u001b[0m\n\u001b[1;32m      9\u001b[0m \u001b[0;34m\u001b[0m\u001b[0m\n\u001b[1;32m     10\u001b[0m \u001b[0;31m# 1e)\u001b[0m\u001b[0;34m\u001b[0m\u001b[0;34m\u001b[0m\u001b[0;34m\u001b[0m\u001b[0m\n\u001b[0;32m---> 11\u001b[0;31m \u001b[0mget_mistakes\u001b[0m\u001b[0;34m(\u001b[0m\u001b[0mdata_new\u001b[0m\u001b[0;34m,\u001b[0m \u001b[0mlabels\u001b[0m\u001b[0;34m,\u001b[0m \u001b[0mtheta_new\u001b[0m\u001b[0;34m)\u001b[0m\u001b[0;34m\u001b[0m\u001b[0;34m\u001b[0m\u001b[0m\n\u001b[0m",
      "\u001b[0;32m<ipython-input-7-88df45d95e84>\u001b[0m in \u001b[0;36mget_mistakes\u001b[0;34m(data, labels, theta)\u001b[0m\n\u001b[1;32m     20\u001b[0m           \u001b[0mx\u001b[0m \u001b[0;34m=\u001b[0m \u001b[0mnp\u001b[0m\u001b[0;34m.\u001b[0m\u001b[0marray\u001b[0m\u001b[0;34m(\u001b[0m\u001b[0mdata\u001b[0m\u001b[0;34m)\u001b[0m\u001b[0;34m[\u001b[0m\u001b[0;34m:\u001b[0m\u001b[0;34m,\u001b[0m\u001b[0mi\u001b[0m\u001b[0;34m:\u001b[0m\u001b[0mi\u001b[0m\u001b[0;34m+\u001b[0m\u001b[0;36m1\u001b[0m\u001b[0;34m]\u001b[0m\u001b[0;34m\u001b[0m\u001b[0;34m\u001b[0m\u001b[0m\n\u001b[1;32m     21\u001b[0m           \u001b[0my\u001b[0m \u001b[0;34m=\u001b[0m \u001b[0mnp\u001b[0m\u001b[0;34m.\u001b[0m\u001b[0marray\u001b[0m\u001b[0;34m(\u001b[0m\u001b[0mlabels\u001b[0m\u001b[0;34m)\u001b[0m\u001b[0;34m[\u001b[0m\u001b[0;34m:\u001b[0m\u001b[0;34m,\u001b[0m\u001b[0mi\u001b[0m\u001b[0;34m:\u001b[0m\u001b[0mi\u001b[0m\u001b[0;34m+\u001b[0m\u001b[0;36m1\u001b[0m\u001b[0;34m]\u001b[0m\u001b[0;34m\u001b[0m\u001b[0;34m\u001b[0m\u001b[0m\n\u001b[0;32m---> 22\u001b[0;31m           \u001b[0;32mif\u001b[0m \u001b[0my\u001b[0m \u001b[0;34m*\u001b[0m \u001b[0mpositive\u001b[0m\u001b[0;34m(\u001b[0m\u001b[0mx\u001b[0m\u001b[0;34m,\u001b[0m \u001b[0mtheta\u001b[0m\u001b[0;34m,\u001b[0m \u001b[0mtheta_0\u001b[0m\u001b[0;34m)\u001b[0m \u001b[0;34m<=\u001b[0m \u001b[0;36m0.0\u001b[0m\u001b[0;34m:\u001b[0m\u001b[0;34m\u001b[0m\u001b[0;34m\u001b[0m\u001b[0m\n\u001b[0m\u001b[1;32m     23\u001b[0m               \u001b[0mtheta\u001b[0m \u001b[0;34m=\u001b[0m \u001b[0mtheta\u001b[0m \u001b[0;34m+\u001b[0m \u001b[0my\u001b[0m \u001b[0;34m*\u001b[0m \u001b[0mx\u001b[0m\u001b[0;34m\u001b[0m\u001b[0;34m\u001b[0m\u001b[0m\n\u001b[1;32m     24\u001b[0m               \u001b[0mtheta_0\u001b[0m \u001b[0;34m=\u001b[0m \u001b[0mtheta_0\u001b[0m \u001b[0;34m+\u001b[0m \u001b[0my\u001b[0m\u001b[0;34m\u001b[0m\u001b[0;34m\u001b[0m\u001b[0m\n",
      "\u001b[0;32m<ipython-input-4-3b17cffff07b>\u001b[0m in \u001b[0;36mpositive\u001b[0;34m(x, th, th0)\u001b[0m\n\u001b[1;32m     47\u001b[0m \u001b[0;34m\u001b[0m\u001b[0m\n\u001b[1;32m     48\u001b[0m \u001b[0;32mdef\u001b[0m \u001b[0mpositive\u001b[0m\u001b[0;34m(\u001b[0m\u001b[0mx\u001b[0m\u001b[0;34m,\u001b[0m \u001b[0mth\u001b[0m\u001b[0;34m,\u001b[0m \u001b[0mth0\u001b[0m\u001b[0;34m)\u001b[0m\u001b[0;34m:\u001b[0m\u001b[0;34m\u001b[0m\u001b[0;34m\u001b[0m\u001b[0m\n\u001b[0;32m---> 49\u001b[0;31m     \u001b[0;32mreturn\u001b[0m \u001b[0mnp\u001b[0m\u001b[0;34m.\u001b[0m\u001b[0msign\u001b[0m\u001b[0;34m(\u001b[0m\u001b[0mth\u001b[0m\u001b[0;34m.\u001b[0m\u001b[0mT\u001b[0m\u001b[0;34m@\u001b[0m\u001b[0mx\u001b[0m \u001b[0;34m+\u001b[0m \u001b[0mth0\u001b[0m\u001b[0;34m)\u001b[0m\u001b[0;34m\u001b[0m\u001b[0;34m\u001b[0m\u001b[0m\n\u001b[0m\u001b[1;32m     50\u001b[0m \u001b[0;34m\u001b[0m\u001b[0m\n\u001b[1;32m     51\u001b[0m \u001b[0;32mdef\u001b[0m \u001b[0mscore\u001b[0m\u001b[0;34m(\u001b[0m\u001b[0mdata\u001b[0m\u001b[0;34m,\u001b[0m \u001b[0mlabels\u001b[0m\u001b[0;34m,\u001b[0m \u001b[0mth\u001b[0m\u001b[0;34m,\u001b[0m \u001b[0mth0\u001b[0m\u001b[0;34m)\u001b[0m\u001b[0;34m:\u001b[0m\u001b[0;34m\u001b[0m\u001b[0;34m\u001b[0m\u001b[0m\n",
      "\u001b[0;31mKeyboardInterrupt\u001b[0m: "
     ],
     "output_type": "error"
    }
   ],
   "source": [
    "# 1d)\n",
    "data = ([[200, 800, 200, 800],\n",
    "             [0.2,  0.2,  0.8,  0.8]])\n",
    "data_new = np.array(data)*0.001\n",
    "labels = [[-1, -1, 1, 1]]\n",
    "\n",
    "theta_new = np.array([0, 1, -0.0005])\n",
    "print('margin: ', get_margin(data_new, labels, theta_new))\n",
    "\n",
    "# 1e)\n",
    "get_mistakes(data_new, labels, theta_new)"
   ]
  },
  {
   "cell_type": "code",
   "execution_count": 9,
   "metadata": {
    "colab": {
     "base_uri": "https://localhost:8080/"
    },
    "id": "KTDd2UpKWlF9",
    "outputId": "b3c645d5-4bb3-4f97-9e59-329e80a5cdc8"
   },
   "outputs": [
    {
     "name": "stdout",
     "output_type": "stream",
     "text": [
      "margin:  0.2683281572999747\n"
     ]
    }
   ],
   "source": [
    "# 1f)\n",
    "data_array = np.array(data)\n",
    "data_new = np.multiply(data_array, np.array([0.001, 1]).reshape(-1, 1))\n",
    "print('margin: ', get_margin(data_new, labels, theta))"
   ]
  },
  {
   "cell_type": "code",
   "execution_count": 113,
   "metadata": {
    "colab": {
     "base_uri": "https://localhost:8080/"
    },
    "id": "IdZnzBbXWBR4",
    "outputId": "849a6597-8db9-4161-bc75-23c96a415145"
   },
   "outputs": [
    {
     "name": "stdout",
     "output_type": "stream",
     "text": [
      "maximum theoretical bounds:  31.666666666666686\n",
      "no of mistakes:  0\n"
     ]
    }
   ],
   "source": [
    "# 1g)\n",
    "print('maximum theoretical bounds: ', get_max_bounds(data_new, labels, theta))\n",
    "\n",
    "# 1h)\n",
    "print('no of mistakes: ', get_mistakes(data_new, labels, theta))"
   ]
  },
  {
   "cell_type": "code",
   "execution_count": 10,
   "metadata": {
    "colab": {
     "base_uri": "https://localhost:8080/"
    },
    "id": "rggQx3-1bdzK",
    "outputId": "5b6a273e-d6be-4004-90c2-cc39475b6855"
   },
   "outputs": [
    {
     "data": {
      "text/plain": [
       "array([ 1.11111111,  9.44444444,  9.44444444, 17.77777778])"
      ]
     },
     "execution_count": 10,
     "metadata": {},
     "output_type": "execute_result"
    }
   ],
   "source": [
    "margin = get_margin(data_new, labels, theta)\n",
    "possible_bounds = (np.linalg.norm(data_new, axis=0)/margin)**2\n",
    "max_bounds = max(possible_bounds)\n",
    "possible_bounds"
   ]
  },
  {
   "cell_type": "markdown",
   "metadata": {
    "id": "ZzqUR755Joij"
   },
   "source": [
    "## <section>2D) Encoding Discrete Values</section>\n",
    "\n",
    "It is common to encode sets of discrete values, for machine learning, not as a single multi-valued feature, but using a one hot encoding. So, if there are $k$ values in the discrete set, we would transform that single multi-valued feature into $k$ binary-valued features, in which feature $i$ has value $+1$ if the original feature value was $i$ and has value $0$ (or $-1$) otherwise.\n",
    "\n",
    "Write a function `one_hot` that takes as input $x$, a single feature value (between $1$ and $k$), and $k$, the total possible number of values this feature can take on, and transform it to a numpy column vector of $k$ binary features using a one-hot encoding (remember vectors have zero-based indexing)."
   ]
  },
  {
   "cell_type": "code",
   "execution_count": 11,
   "metadata": {
    "colab": {
     "base_uri": "https://localhost:8080/"
    },
    "id": "CePWcWfOfmwz",
    "outputId": "eaec0723-3ebf-48a8-f4d9-58dd546c2451"
   },
   "outputs": [
    {
     "name": "stdout",
     "output_type": "stream",
     "text": [
      "[[-2.]] [[7.]]\n"
     ]
    },
    {
     "data": {
      "text/plain": [
       "array([[ 1., -1.]])"
      ]
     },
     "execution_count": 11,
     "metadata": {},
     "output_type": "execute_result"
    }
   ],
   "source": [
    "# Qn 2\n",
    "data = rv([2, 3, 4, 5])\n",
    "labels = rv([1, 1, -1, -1])\n",
    "\n",
    "# 2a)\n",
    "theta, theta0 = perceptron(data, labels)\n",
    "print(theta, theta0)\n",
    "\n",
    "# 2b)\n",
    "test = [[1,6]]\n",
    "np.sign(theta.T@np.array(test) + theta0)"
   ]
  },
  {
   "cell_type": "code",
   "execution_count": 12,
   "metadata": {
    "collapsed": true,
    "id": "R11VPNJ3Jpwb"
   },
   "outputs": [],
   "source": [
    "# 2d)\n",
    "def one_hot(x, k):\n",
    "    # Your implementation here\n",
    "    vect = cv([0]*k)\n",
    "    vect[x-1, 0] = 1\n",
    "    return vect"
   ]
  },
  {
   "cell_type": "code",
   "execution_count": 13,
   "metadata": {
    "colab": {
     "base_uri": "https://localhost:8080/"
    },
    "id": "uOdWFevZJs1U",
    "outputId": "df7d31e1-ed8f-4f34-c5d9-80ffabe122a7"
   },
   "outputs": [
    {
     "name": "stdout",
     "output_type": "stream",
     "text": [
      "Passed! \n",
      "\n"
     ]
    }
   ],
   "source": [
    "test_one_hot(one_hot)"
   ]
  },
  {
   "cell_type": "code",
   "execution_count": 14,
   "metadata": {
    "colab": {
     "base_uri": "https://localhost:8080/"
    },
    "id": "Qcj4BLyTh79E",
    "outputId": "cbe30b85-ff7b-43cd-ee55-f74d6b2500f3"
   },
   "outputs": [
    {
     "name": "stdout",
     "output_type": "stream",
     "text": [
      "[[ 0.]\n",
      " [ 2.]\n",
      " [ 1.]\n",
      " [-2.]\n",
      " [-1.]\n",
      " [ 0.]] [[0.]]\n",
      "[[0. 0.]]\n"
     ]
    },
    {
     "data": {
      "text/plain": [
       "array([[0., 0.]])"
      ]
     },
     "execution_count": 14,
     "metadata": {},
     "output_type": "execute_result"
    }
   ],
   "source": [
    "# 2ei)\n",
    "def one_hot_encode(data):\n",
    "  data_flat = [i for j in data for i in j]\n",
    "  data_one_hot = []\n",
    "  for i in data_flat:\n",
    "    data_one_hot.append(one_hot(i, 6))\n",
    "  return np.array(data_one_hot).flatten().reshape(len(data_flat), 6).T\n",
    "\n",
    "data_one_hot = one_hot_encode(data)\n",
    "theta_update, theta0_update = perceptron(data_one_hot, labels)\n",
    "print(theta_update, theta0_update)\n",
    "\n",
    "#2eii) \n",
    "test_one_hot = one_hot_encode(test)\n",
    "predict = np.sign(theta_update.T@test_one_hot + theta0_update)\n",
    "print(predict)\n",
    "\n",
    "#2eiii)\n",
    "hypo = (theta_update.T@test_one_hot + theta0_update)/np.linalg.norm(np.stack(theta_update, theta0_update))\n",
    "\n",
    "margin = np.multiply(predict, hypo)/np.linalg.norm(theta)\n",
    "margin"
   ]
  },
  {
   "cell_type": "code",
   "execution_count": 15,
   "metadata": {
    "colab": {
     "base_uri": "https://localhost:8080/"
    },
    "id": "JaUNZg8QnpyR",
    "outputId": "d610f0f0-ccd0-42b8-ec5e-81f0264d280f"
   },
   "outputs": [
    {
     "name": "stdout",
     "output_type": "stream",
     "text": [
      "[[ 1.]\n",
      " [ 1.]\n",
      " [-2.]\n",
      " [-2.]\n",
      " [ 1.]\n",
      " [ 1.]] [[0.]]\n"
     ]
    }
   ],
   "source": [
    "# 2f)\n",
    "data =   rv([1, 2, 3, 4, 5, 6])\n",
    "labels = rv([1, 1, -1, -1, 1, 1])\n",
    "theta, theta0 = perceptron(one_hot_encode(data), labels)\n",
    "print(theta, theta0)"
   ]
  },
  {
   "cell_type": "markdown",
   "metadata": {
    "id": "IHCfY1dBJvK3"
   },
   "source": [
    "## 3) Polynomial Features\n",
    "\n",
    "One systematic way of generating non-linear transformations of your input features is to consider the polynomials of increasing order.  Given a feature vector $x = [x_1, x_2, ..., x_d]^T$, we can map it into a new feature vector that contains all the factors in a polynomial of order $d$. For example, for $x = [x_1, x_2]^T$ and order 2, we get $$\\phi(x) = [1, x_1, x_2, x_1x_2, x_1^2, x_2^2]^T$$ and for order 3, we get $$\\phi(x) = [1, x_1, x_2, x_1x_2, x_1^2, x_2^2, x_1^2x_2, x_1x_2^2, x_1^3, x_2^3]^T.$$  \n",
    "\n",
    "In the code that has been loaded, we have defined `make_polynomial_feature_fun` that, given the order, returns a feature transformation function (analogous to $\\phi$ in the description).  You should use it in doing this problem."
   ]
  },
  {
   "cell_type": "code",
   "execution_count": 16,
   "metadata": {
    "colab": {
     "base_uri": "https://localhost:8080/"
    },
    "id": "2MHF3Ej7Jx0r",
    "outputId": "e1d33e5f-5ae4-49d8-ff83-e0206ebbdfe7"
   },
   "outputs": [
    {
     "name": "stdout",
     "output_type": "stream",
     "text": [
      "[[1.]\n",
      " [0.]\n",
      " [0.]\n",
      " [0.]\n",
      " [0.]\n",
      " [0.]\n",
      " [0.]\n",
      " [0.]\n",
      " [0.]\n",
      " [0.]\n",
      " [0.]\n",
      " [0.]\n",
      " [0.]\n",
      " [0.]\n",
      " [0.]]\n"
     ]
    },
    {
     "data": {
      "text/plain": [
       "15"
      ]
     },
     "execution_count": 16,
     "metadata": {},
     "output_type": "execute_result"
    }
   ],
   "source": [
    "## For example, make_polynomial_feature_fun could be used as follows:\n",
    "import numpy as np\n",
    "\n",
    "# Data\n",
    "data = np.zeros((2,1))\n",
    "\n",
    "# Generate transformation of order 2\n",
    "transformation = make_polynomial_feature_fun(4)\n",
    "\n",
    "# Use transformation on data\n",
    "print(transformation(data))\n",
    "len(transformation(data))"
   ]
  },
  {
   "cell_type": "code",
   "execution_count": 17,
   "metadata": {
    "colab": {
     "base_uri": "https://localhost:8080/"
    },
    "id": "vro86Am2mPMF",
    "outputId": "2c616ce0-7a08-4484-eb39-8bdcab8f609f"
   },
   "outputs": [
    {
     "name": "stdout",
     "output_type": "stream",
     "text": [
      "3.0 66.0 231.0 496.0 861.0 1326.0\n"
     ]
    }
   ],
   "source": [
    "#3a)\n",
    "print(2*3/2, 11*12/2, 21*22/2, 31*32/2, 41*42/2, 51*52/2)"
   ]
  },
  {
   "cell_type": "markdown",
   "metadata": {
    "id": "gwVEBQ_dMoxM"
   },
   "source": [
    "Note that iterative animations, which update a plot within a loop, don't work the same way in colab, as with a local python console installation.  One workaround for colab to be able to show such plot iterations is to show all the plots, and this can be done for the test code using this patched function:"
   ]
  },
  {
   "cell_type": "code",
   "execution_count": 18,
   "metadata": {
    "collapsed": true,
    "id": "U87UfhraMn7P"
   },
   "outputs": [],
   "source": [
    "def test_linear_classifier_with_features(dataFun, learner, feature_fun,\n",
    "                             draw = True, refresh = True, pause = True):\n",
    "    raw_data, labels = dataFun()\n",
    "    data = feature_fun(raw_data) if feature_fun else raw_data\n",
    "    if draw:\n",
    "        def hook(params):\n",
    "            ax = plot_data(raw_data, labels)   # create plot axis on each iteration\n",
    "            (th, th0) = params\n",
    "            predictor = lambda x1,x2: int(positive(feature_fun(cv([x1, x2])), th, th0))\n",
    "            plot_nonlin_sep(\n",
    "                predictor,\n",
    "                ax = ax)\n",
    "            plot_data(raw_data, labels, ax)\n",
    "            plt.show()                         # force plot to push to the colab notebook and be displayed\n",
    "            print('th', th.T, 'th0', th0)\n",
    "            if pause: input('press enter here to continue:')\n",
    "    else:\n",
    "        hook = None\n",
    "    th, th0 = learner(data, labels, hook = hook)\n",
    "    if hook: hook((th, th0))\n",
    "    print(\"Final score\", int(score(data, labels, th, th0)))\n",
    "    print(\"Params\", np.transpose(th), th0)\n",
    "\n",
    "def test_with_features(dataFun, order = 2, draw=True, pause=True):\n",
    "    test_linear_classifier_with_features(\n",
    "        dataFun,                        # data\n",
    "        perceptron,                     # learner\n",
    "        make_polynomial_feature_fun(order), # feature maker\n",
    "        draw=draw,\n",
    "        pause=pause)\n",
    "  \n",
    "#3b) \n",
    "data = rv([[1, 1, 2, 2],\n",
    "         [1, 2, 1, 2]])\n",
    "labels = rv([-1, 1, 1, -1])"
   ]
  },
  {
   "cell_type": "markdown",
   "metadata": {
    "id": "N7SLAtCuNSOq"
   },
   "source": [
    "Here's a test you can run to see plots:"
   ]
  },
  {
   "cell_type": "code",
   "execution_count": 190,
   "metadata": {
    "colab": {
     "base_uri": "https://localhost:8080/",
     "height": 1000.0
    },
    "id": "3POW4H6DyeK-",
    "outputId": "bf5c62c7-e2ce-4555-d37d-889d32f30e5d"
   },
   "outputs": [
    {
     "data": {
      "image/png": "[encoded data removed]",
      "text/plain": [
       "<Figure size 432x288 with 1 Axes>"
      ]
     },
     "metadata": {
      "tags": []
     },
     "output_type": "display_data"
    },
    {
     "name": "stdout",
     "output_type": "stream",
     "text": [
      "th [[1. 2. 5.]] th0 [[1.]]\n"
     ]
    },
    {
     "data": {
      "image/png": "[encoded data removed]",
      "text/plain": [
       "<Figure size 432x288 with 1 Axes>"
      ]
     },
     "metadata": {
      "tags": []
     },
     "output_type": "display_data"
    },
    {
     "name": "stdout",
     "output_type": "stream",
     "text": [
      "th [[ 0. -1.  4.]] th0 [[0.]]\n"
     ]
    },
    {
     "data": {
      "image/png": "[encoded data removed]",
      "text/plain": [
       "<Figure size 432x288 with 1 Axes>"
      ]
     },
     "metadata": {
      "tags": []
     },
     "output_type": "display_data"
    },
    {
     "name": "stdout",
     "output_type": "stream",
     "text": [
      "th [[ -1. -13.  -1.]] th0 [[-1.]]\n"
     ]
    },
    {
     "data": {
      "image/png": "[encoded data removed]",
      "text/plain": [
       "<Figure size 432x288 with 1 Axes>"
      ]
     },
     "metadata": {
      "tags": []
     },
     "output_type": "display_data"
    },
    {
     "name": "stdout",
     "output_type": "stream",
     "text": [
      "th [[  0. -11.   4.]] th0 [[0.]]\n"
     ]
    },
    {
     "data": {
      "image/png": "[encoded data removed]",
      "text/plain": [
       "<Figure size 432x288 with 1 Axes>"
      ]
     },
     "metadata": {
      "tags": []
     },
     "output_type": "display_data"
    },
    {
     "name": "stdout",
     "output_type": "stream",
     "text": [
      "th [[ 1. -2. 10.]] th0 [[1.]]\n"
     ]
    },
    {
     "data": {
      "image/png": "[encoded data removed]",
      "text/plain": [
       "<Figure size 432x288 with 1 Axes>"
      ]
     },
     "metadata": {
      "tags": []
     },
     "output_type": "display_data"
    },
    {
     "name": "stdout",
     "output_type": "stream",
     "text": [
      "th [[  0. -14.   5.]] th0 [[0.]]\n"
     ]
    },
    {
     "data": {
      "image/png": "[encoded data removed]",
      "text/plain": [
       "<Figure size 432x288 with 1 Axes>"
      ]
     },
     "metadata": {
      "tags": []
     },
     "output_type": "display_data"
    },
    {
     "name": "stdout",
     "output_type": "stream",
     "text": [
      "th [[  1. -12.  10.]] th0 [[1.]]\n"
     ]
    },
    {
     "data": {
      "image/png": "[encoded data removed]",
      "text/plain": [
       "<Figure size 432x288 with 1 Axes>"
      ]
     },
     "metadata": {
      "tags": []
     },
     "output_type": "display_data"
    },
    {
     "name": "stdout",
     "output_type": "stream",
     "text": [
      "th [[ 2. -3. 16.]] th0 [[2.]]\n"
     ]
    },
    {
     "data": {
      "image/png": "[encoded data removed]",
      "text/plain": [
       "<Figure size 432x288 with 1 Axes>"
      ]
     },
     "metadata": {
      "tags": []
     },
     "output_type": "display_data"
    },
    {
     "name": "stdout",
     "output_type": "stream",
     "text": [
      "th [[  1. -15.  11.]] th0 [[1.]]\n"
     ]
    },
    {
     "data": {
      "image/png": "[encoded data removed]",
      "text/plain": [
       "<Figure size 432x288 with 1 Axes>"
      ]
     },
     "metadata": {
      "tags": []
     },
     "output_type": "display_data"
    },
    {
     "name": "stdout",
     "output_type": "stream",
     "text": [
      "th [[ 2. -6. 17.]] th0 [[2.]]\n"
     ]
    },
    {
     "data": {
      "image/png": "[encoded data removed]",
      "text/plain": [
       "<Figure size 432x288 with 1 Axes>"
      ]
     },
     "metadata": {
      "tags": []
     },
     "output_type": "display_data"
    },
    {
     "name": "stdout",
     "output_type": "stream",
     "text": [
      "th [[  1. -18.  12.]] th0 [[1.]]\n"
     ]
    },
    {
     "data": {
      "image/png": "[encoded data removed]",
      "text/plain": [
       "<Figure size 432x288 with 1 Axes>"
      ]
     },
     "metadata": {
      "tags": []
     },
     "output_type": "display_data"
    },
    {
     "name": "stdout",
     "output_type": "stream",
     "text": [
      "th [[ 2. -9. 18.]] th0 [[2.]]\n"
     ]
    },
    {
     "data": {
      "image/png": "[encoded data removed]",
      "text/plain": [
       "<Figure size 432x288 with 1 Axes>"
      ]
     },
     "metadata": {
      "tags": []
     },
     "output_type": "display_data"
    },
    {
     "name": "stdout",
     "output_type": "stream",
     "text": [
      "th [[ 2. -9. 18.]] th0 [[2.]]\n",
      "Final score 4\n",
      "Params [[ 2. -9. 18.]] [[2.]]\n"
     ]
    }
   ],
   "source": [
    "# super_simple_separable_through_origin\n",
    "test_with_features(super_simple_separable_through_origin, order=1, draw=True, pause=False)"
   ]
  },
  {
   "cell_type": "code",
   "execution_count": null,
   "metadata": {
    "collapsed": true,
    "id": "H74UrlZSNVe-"
   },
   "outputs": [],
   "source": [
    "test_with_features(super_simple_separable, order = 1, draw = True, pause = False)"
   ]
  },
  {
   "cell_type": "markdown",
   "metadata": {
    "id": "k049Moe2OKBa"
   },
   "source": [
    "We know that a better way to do this exists (eg using [colab plot animations](https://colab.research.google.com/drive/131wXGA8h8d7llSZxZJ6R4e8nz0ih1WPG#scrollTo=5zVG8JcR4CS2)) - if you are willing to contribute some nice code which lets our plotting functions do this, please do share!"
   ]
  },
  {
   "cell_type": "code",
   "execution_count": null,
   "metadata": {
    "collapsed": true,
    "id": "pNdKV9rQzGhh"
   },
   "outputs": [],
   "source": [
    "test_with_features(xor, order = 2, draw = True, pause = False)"
   ]
  },
  {
   "cell_type": "code",
   "execution_count": null,
   "metadata": {
    "collapsed": true,
    "id": "D65YsTdczVyZ"
   },
   "outputs": [],
   "source": [
    "test_with_features(xor_more, order = 3, draw = True, pause = False)"
   ]
  },
  {
   "cell_type": "markdown",
   "metadata": {
    "id": "GcgPe4-XQ8-b"
   },
   "source": [
    "# Experiments"
   ]
  },
  {
   "cell_type": "markdown",
   "metadata": {
    "id": "erNybvgGRXCf"
   },
   "source": [
    "## 4) Evaluating algorithmic and feature choices for AUTO data\n",
    "\n",
    "We now want to build a classifier for the auto data, focusing on the\n",
    "numeric data.  In the code file for this part of the assignment, we have supplied you\n",
    "with the `load_auto_data` function, that can be used to read the\n",
    "relevant .tsv file.  It will return a list of dictionaries, one for each data item.\n",
    "\n",
    "We then have to specify what feature function to use for each column\n",
    "in the data.  The file `hw3_part2_main.py` has an example for constructing\n",
    "the data and label arrays using `raw` feature function for all the columns.\n",
    "Look at the definition of `features` in `hw3_part2_main.py`, this indicates a feature name to\n",
    "use and then a feature function, there are three defined in the\n",
    "`code_for_hw3_part2.py` file (`raw`, `standard` and `one_hot`).  `raw` just uses\n",
    "the original value, `standard` subtracts out the mean value and\n",
    "divides by the standard deviation and `one_hot` does the encoding\n",
    "described in the notes.\n",
    "\n",
    "The function `auto_data_and_labels` will process the dictionaries and\n",
    "return <tt>data, labels</tt> where <tt>data</tt> are arrays of\n",
    "dimension $(d, 392)$, with $d$ the total number of features specified,\n",
    "and <tt>labels</tt> is of dimension $(1, 392)$.  The data in the file\n",
    "is sorted by class, but it will be shuffled when you read it in."
   ]
  },
  {
   "cell_type": "code",
   "execution_count": 19,
   "metadata": {
    "colab": {
     "base_uri": "https://localhost:8080/"
    },
    "id": "3jdynxZqQ5Ky",
    "outputId": "94d56a20-2582-466d-e4f2-f65bc4029769"
   },
   "outputs": [
    {
     "name": "stdout",
     "output_type": "stream",
     "text": [
      "avg and std {}\n",
      "entries in one_hot field {}\n",
      "auto data and labels shape (6, 392) (1, 392)\n",
      "avg and std {'displacement': (388.3482142857143, 302.0458123396403), 'horsepower': (509.3545918367347, 333.6521151716361), 'weight': (2977.5841836734694, 848.3184465698365), 'acceleration': (15.541326530612228, 2.7553429127509963)}\n",
      "entries in one_hot field {'cylinders': [3.0, 4.0, 5.0, 6.0, 8.0], 'origin': [1.0, 2.0, 3.0]}\n",
      "auto data and labels shape (12, 392) (1, 392)\n"
     ]
    }
   ],
   "source": [
    "# Returns a list of dictionaries.  Keys are the column names, including mpg.\n",
    "auto_data_all = hw3.load_auto_data('auto-mpg.tsv')\n",
    "\n",
    "# The choice of feature processing for each feature, mpg is always raw and\n",
    "# does not need to be specified.  Other choices are hw3.standard and hw3.one_hot.\n",
    "# 'name' is not numeric and would need a different encoding.\n",
    "features_1 = [('cylinders', hw3.raw),\n",
    "            ('displacement', hw3.raw),\n",
    "            ('horsepower', hw3.raw),\n",
    "            ('weight', hw3.raw),\n",
    "            ('acceleration', hw3.raw),\n",
    "            ## Drop model_year by default\n",
    "            ## ('model_year', hw3.raw),\n",
    "            ('origin', hw3.raw)]\n",
    "\n",
    "features_2 = [('cylinders', hw3.one_hot),\n",
    "            ('displacement', hw3.standard),\n",
    "            ('horsepower', hw3.standard),\n",
    "            ('weight', hw3.standard),\n",
    "            ('acceleration', hw3.standard),\n",
    "            ## Drop model_year by default\n",
    "            ## ('model_year', hw3.raw),\n",
    "            ('origin', hw3.one_hot)]\n",
    "\n",
    "# Construct the standard data and label arrays\n",
    "auto_data_1, auto_labels_1 = hw3.auto_data_and_labels(auto_data_all, features_1)\n",
    "print('auto data and labels shape', auto_data_1.shape, auto_labels_1.shape)\n",
    "auto_data_2, auto_labels_2 = hw3.auto_data_and_labels(auto_data_all, features_2)\n",
    "print('auto data and labels shape', auto_data_2.shape, auto_labels_2.shape)"
   ]
  },
  {
   "cell_type": "code",
   "execution_count": 20,
   "metadata": {
    "colab": {
     "base_uri": "https://localhost:8080/"
    },
    "id": "zQBWhNHS9nEf",
    "outputId": "1a6130b8-278e-4b9e-a9da-3125558d8f0a"
   },
   "outputs": [
    {
     "data": {
      "text/plain": [
       "[('cylinders', <function code_for_hw3_part2.one_hot>),\n",
       " ('displacement', <function code_for_hw3_part2.standard>),\n",
       " ('horsepower', <function code_for_hw3_part2.standard>),\n",
       " ('weight', <function code_for_hw3_part2.standard>),\n",
       " ('acceleration', <function code_for_hw3_part2.standard>),\n",
       " ('origin', <function code_for_hw3_part2.one_hot>)]"
      ]
     },
     "execution_count": 20,
     "metadata": {},
     "output_type": "execute_result"
    }
   ],
   "source": [
    "features_2"
   ]
  },
  {
   "cell_type": "code",
   "execution_count": 25,
   "metadata": {
    "id": "yfOrmU1XdFCZ",
    "scrolled": true
   },
   "outputs": [
    {
     "name": "stdout",
     "output_type": "stream",
     "text": [
      "Feature 0 cylinders\n"
     ]
    },
    {
     "data": {
      "image/png": "[encoded data removed]",
      "text/plain": [
       "<matplotlib.figure.Figure at 0x1174894e0>"
      ]
     },
     "metadata": {},
     "output_type": "display_data"
    },
    {
     "name": "stdout",
     "output_type": "stream",
     "text": [
      "Feature 1 displacement\n"
     ]
    },
    {
     "data": {
      "image/png": "[encoded data removed]",
      "text/plain": [
       "<matplotlib.figure.Figure at 0x10f644588>"
      ]
     },
     "metadata": {},
     "output_type": "display_data"
    },
    {
     "name": "stdout",
     "output_type": "stream",
     "text": [
      "Feature 2 horsepower\n"
     ]
    },
    {
     "data": {
      "image/png": "[encoded data removed]",
      "text/plain": [
       "<matplotlib.figure.Figure at 0x117ce9d30>"
      ]
     },
     "metadata": {},
     "output_type": "display_data"
    },
    {
     "name": "stdout",
     "output_type": "stream",
     "text": [
      "Feature 3 weight\n"
     ]
    },
    {
     "data": {
      "image/png": "[encoded data removed]",
      "text/plain": [
       "<matplotlib.figure.Figure at 0x11788d390>"
      ]
     },
     "metadata": {},
     "output_type": "display_data"
    },
    {
     "name": "stdout",
     "output_type": "stream",
     "text": [
      "Feature 4 acceleration\n"
     ]
    },
    {
     "data": {
      "image/png": "[encoded data removed]",
      "text/plain": [
       "<matplotlib.figure.Figure at 0x11790e048>"
      ]
     },
     "metadata": {},
     "output_type": "display_data"
    },
    {
     "name": "stdout",
     "output_type": "stream",
     "text": [
      "Feature 5 origin\n"
     ]
    },
    {
     "data": {
      "image/png": "[encoded data removed]",
      "text/plain": [
       "<matplotlib.figure.Figure at 0x11787e710>"
      ]
     },
     "metadata": {},
     "output_type": "display_data"
    }
   ],
   "source": [
    "import matplotlib.pyplot as plt\n",
    "for feat in range(auto_data_1.shape[0]):\n",
    "    print('Feature', feat, features_1[feat][0])\n",
    "    # Plot histograms in one window, different colors\n",
    "    plt.hist(auto_data_1[feat, auto_labels_1[0,:] > 0])\n",
    "    plt.hist(auto_data_1[feat, auto_labels_1[0,:] < 0])\n",
    "    plt.show()\n",
    "    # Plot histograms in two windows, different colors\n",
    "    # fig,(a1,a2) = plt.subplots(nrows=2)\n",
    "    # a1.hist(auto_data[feat,auto_labels[0,:] > 0])\n",
    "    # a2.hist(auto_data[feat,auto_labels[0,:] < 0])\n",
    "    # plt.show()"
   ]
  },
  {
   "cell_type": "code",
   "execution_count": 26,
   "metadata": {
    "colab": {
     "base_uri": "https://localhost:8080/"
    },
    "id": "NURzjOsZ2XAc",
    "outputId": "b241b197-404b-417e-e276-e1508d2a0a55"
   },
   "outputs": [
    {
     "name": "stdout",
     "output_type": "stream",
     "text": [
      "perceptron accuracy:  0.6526282051282052\n",
      "ave perceptron accuracy:  0.8441025641025641\n",
      "perceptron accuracy:  0.7908333333333333\n",
      "ave perceptron accuracy:  0.9004487179487182\n"
     ]
    }
   ],
   "source": [
    "def eval_classifier(learner, data_train, labels_train, data_test, labels_test, T):\n",
    "    th, th0 = learner(data_train, labels_train, params = {'T': T})\n",
    "    return score(data_test, labels_test, th, th0)/data_test.shape[1]\n",
    "\n",
    "def xval_learning_alg(learner, data, labels, k, T):\n",
    "    _, n = data.shape\n",
    "    idx = list(range(n))\n",
    "    np.random.seed(0)\n",
    "    np.random.shuffle(idx)\n",
    "    data, labels = data[:,idx], labels[:,idx]\n",
    "\n",
    "    s_data = np.array_split(data, k, axis=1)\n",
    "    s_labels = np.array_split(labels, k, axis=1)\n",
    "\n",
    "    score_sum = 0\n",
    "    for i in range(k):\n",
    "        data_train = np.concatenate(s_data[:i] + s_data[i+1:], axis=1)\n",
    "        labels_train = np.concatenate(s_labels[:i] + s_labels[i+1:], axis=1)\n",
    "        data_test = np.array(s_data[i])\n",
    "        labels_test = np.array(s_labels[i])\n",
    "        score_sum += eval_classifier(learner, data_train, labels_train,\n",
    "                                              data_test, labels_test, T)\n",
    "    return score_sum/k\n",
    "\n",
    "#4.1c i) features 1, T = 1\n",
    "print('perceptron accuracy: ', xval_learning_alg(perceptron, auto_data_1, auto_labels_1, 10, 1))\n",
    "print('ave perceptron accuracy: ', xval_learning_alg(averaged_perceptron, auto_data_1, auto_labels_1, 10, 1))\n",
    "\n",
    "#4.1c ii) features 2, T = 1\n",
    "print('perceptron accuracy: ', xval_learning_alg(perceptron, auto_data_2, auto_labels_2, 10, 1))\n",
    "print('ave perceptron accuracy: ', xval_learning_alg(averaged_perceptron, auto_data_2, auto_labels_2, 10, 1))"
   ]
  },
  {
   "cell_type": "code",
   "execution_count": 27,
   "metadata": {
    "colab": {
     "base_uri": "https://localhost:8080/"
    },
    "id": "C070A-JU5lJu",
    "outputId": "3dc5557b-56db-4257-ed65-85d54974bf4c"
   },
   "outputs": [
    {
     "name": "stdout",
     "output_type": "stream",
     "text": [
      "perceptron accuracy:  0.7423076923076924\n",
      "ave perceptron accuracy:  0.8366025641025641\n",
      "perceptron accuracy:  0.8061538461538461\n",
      "ave perceptron accuracy:  0.8979487179487181\n"
     ]
    }
   ],
   "source": [
    "#4.1c iii) features 1, T = 10\n",
    "print('perceptron accuracy: ', xval_learning_alg(perceptron, auto_data_1, auto_labels_1, 10, 10))\n",
    "print('ave perceptron accuracy: ', xval_learning_alg(averaged_perceptron, auto_data_1, auto_labels_1, 10, 10))\n",
    "\n",
    "#4.1c iv) features 2, T = 10\n",
    "print('perceptron accuracy: ', xval_learning_alg(perceptron, auto_data_2, auto_labels_2, 10, 10))\n",
    "print('ave perceptron accuracy: ', xval_learning_alg(averaged_perceptron, auto_data_2, auto_labels_2, 10, 10))"
   ]
  },
  {
   "cell_type": "code",
   "execution_count": 28,
   "metadata": {
    "colab": {
     "base_uri": "https://localhost:8080/"
    },
    "id": "QAYFRsdF7JRn",
    "outputId": "ce5c7bee-3c66-4e46-eb4b-6b6e2f818d2c"
   },
   "outputs": [
    {
     "name": "stdout",
     "output_type": "stream",
     "text": [
      "perceptron accuracy:  0.6909615384615384\n",
      "ave perceptron accuracy:  0.8366025641025641\n",
      "perceptron accuracy:  0.8060256410256409\n",
      "ave perceptron accuracy:  0.9005128205128207\n"
     ]
    }
   ],
   "source": [
    "#4.1c v) features 1, T = 50\n",
    "print('perceptron accuracy: ', xval_learning_alg(perceptron, auto_data_1, auto_labels_1, 10, 50))\n",
    "print('ave perceptron accuracy: ', xval_learning_alg(averaged_perceptron, auto_data_1, auto_labels_1, 10, 50))\n",
    "\n",
    "#4.1c vi) features 2, T = 50\n",
    "print('perceptron accuracy: ', xval_learning_alg(perceptron, auto_data_2, auto_labels_2, 10, 50))\n",
    "print('ave perceptron accuracy: ', xval_learning_alg(averaged_perceptron, auto_data_2, auto_labels_2, 10, 50))"
   ]
  },
  {
   "cell_type": "code",
   "execution_count": 29,
   "metadata": {
    "colab": {
     "base_uri": "https://localhost:8080/"
    },
    "id": "cmmdLhr38PIo",
    "outputId": "abdf0147-c9e3-4b93-f11f-fdebf8a2133f"
   },
   "outputs": [
    {
     "name": "stdout",
     "output_type": "stream",
     "text": [
      "[[-0.92168367]\n",
      " [ 1.50280612]\n",
      " [ 0.40229592]\n",
      " [-0.7630102 ]\n",
      " [ 0.73903061]\n",
      " [-1.17833746]\n",
      " [ 0.45228459]\n",
      " [-4.91225636]\n",
      " [ 0.45783691]\n",
      " [ 0.27806122]\n",
      " [ 0.97091837]\n",
      " [-0.28954082]] [[0.95943878]]\n"
     ]
    }
   ],
   "source": [
    "theta_best, theta0_best = averaged_perceptron(auto_data_2, auto_labels_2, params = {'T':10})\n",
    "print(theta_best, theta0_best)"
   ]
  },
  {
   "cell_type": "markdown",
   "metadata": {
    "id": "sh-D5bvTbizf"
   },
   "source": [
    "## 5) Evaluating algorithmic and feature choices for review data\n",
    "\n",
    "We have supplied you with the `load_review_data`\n",
    "function, that can be used to read a .tsv file and return the labels\n",
    "and texts. We have also supplied you with the `bag_of_words` function,\n",
    "which takes the raw data and returns a dictionary of unigram\n",
    "words. The resulting dictionary is an input to\n",
    "`extract_bow_feature_vectors` which computes a feature matrix of ones\n",
    "and zeros that can be used as the input for the classification\n",
    "algorithms.  The file `hw3_part2_main.py` has code for constructing\n",
    "the data and label arrays.  Using these arrays and our implementation\n",
    "of the learning algorithms, you will be able to compute $\\theta$ and\n",
    "$\\theta_0$.  You will need to add your (or the one written by staff)\n",
    "implementation of perceptron and averaged perceptron."
   ]
  },
  {
   "cell_type": "code",
   "execution_count": 30,
   "metadata": {
    "colab": {
     "base_uri": "https://localhost:8080/"
    },
    "id": "5gHVvGl2bsps",
    "outputId": "3ce4a409-7260-4493-ef87-8641dc559661"
   },
   "outputs": [
    {
     "name": "stdout",
     "output_type": "stream",
     "text": [
      "review_bow_data and labels shape (19945, 10000) (1, 10000)\n"
     ]
    }
   ],
   "source": [
    "# Returns lists of dictionaries.  Keys are the column names, 'sentiment' and 'text'.\n",
    "# The train data has 10,000 examples\n",
    "review_data = hw3.load_review_data('reviews.tsv')\n",
    "\n",
    "# Lists texts of reviews and list of labels (1 or -1)\n",
    "review_texts, review_label_list = zip(*((sample['text'], sample['sentiment']) for sample in review_data))\n",
    "\n",
    "# The dictionary of all the words for \"bag of words\"\n",
    "dictionary = hw3.bag_of_words(review_texts)\n",
    "\n",
    "# The standard data arrays for the bag of words\n",
    "review_bow_data = hw3.extract_bow_feature_vectors(review_texts, dictionary)\n",
    "review_labels = hw3.rv(review_label_list)\n",
    "print('review_bow_data and labels shape', review_bow_data.shape, review_labels.shape)"
   ]
  },
  {
   "cell_type": "code",
   "execution_count": 31,
   "metadata": {
    "colab": {
     "base_uri": "https://localhost:8080/"
    },
    "id": "wR9S-6DsdDFF",
    "outputId": "0d9ae853-3755-4f41-fffd-2bd7f36dcf7d"
   },
   "outputs": [
    {
     "name": "stdout",
     "output_type": "stream",
     "text": [
      "0.7672000000000001 0.8120999999999998\n",
      "0.7871 0.8237\n",
      "0.8036 0.8157\n"
     ]
    }
   ],
   "source": [
    "T5_p = xval_learning_alg(perceptron, review_bow_data, review_labels, 10, 1)\n",
    "T5_a = xval_learning_alg(averaged_perceptron, review_bow_data, review_labels, 10, 1)\n",
    "\n",
    "T10_P = xval_learning_alg(perceptron, review_bow_data, review_labels, 10, 10)\n",
    "T10_a = xval_learning_alg(averaged_perceptron, review_bow_data, review_labels, 10, 10)\n",
    "\n",
    "T50_P = xval_learning_alg(perceptron, review_bow_data, review_labels, 10, 50)\n",
    "T50_a = xval_learning_alg(averaged_perceptron, review_bow_data, review_labels, 10, 50)\n",
    "\n",
    "print(T5_p, T5_a)\n",
    "print(T10_P, T10_a)\n",
    "print(T50_P, T50_a)"
   ]
  },
  {
   "cell_type": "code",
   "execution_count": 32,
   "metadata": {
    "collapsed": true,
    "id": "d0ErXhSlTGDh"
   },
   "outputs": [],
   "source": [
    "theta, theta0 = averaged_perceptron(review_bow_data, review_labels, params = {'T':10})"
   ]
  },
  {
   "cell_type": "code",
   "execution_count": 35,
   "metadata": {
    "colab": {
     "base_uri": "https://localhost:8080/"
    },
    "id": "l9oIbESfXC9M",
    "outputId": "a64875dd-1020-4bc7-a175-3443a58916b4"
   },
   "outputs": [
    {
     "name": "stdout",
     "output_type": "stream",
     "text": [
      "Top 10 most +ve words:  ['great', 'individually', 'bright', 'yummy', 'skeptical', 'perfect', 'easily', 'satisfied', 'delicious', 'excellent']\n",
      "Top 10 most -ve words:  ['formula', 'poor', 'bland', 'disappointment', 'changed', 'stuck', 'horrible', 'unfortunately', 'awful', 'worst']\n"
     ]
    }
   ],
   "source": [
    "idx_word = hw3.reverse_dict(dictionary)\n",
    "#5.2A) find top 10 most +ve words\n",
    "theta_list = [i[0] for i in theta.tolist()]\n",
    "top_10_idx = sorted(range(len(theta_list)), key = lambda i: theta_list[i])[-10:]\n",
    "\n",
    "print(\"Top 10 most +ve words: \", [idx_word[idx] for idx in top_10_idx])\n",
    "\n",
    "#5.2B) find 10 most -ve words\n",
    "bottom_10_idx = sorted(range(len(theta_list)), key = lambda i: theta_list[i], reverse = True)[-10:]\n",
    "print(\"Top 10 most -ve words: \", [idx_word[idx] for idx in bottom_10_idx])"
   ]
  },
  {
   "cell_type": "markdown",
   "metadata": {
    "id": "qbqHMbrubt5t"
   },
   "source": [
    "## 6) Evaluating features for MNIST data\n",
    "\n",
    "\n",
    "This problem explores how well the perceptron algorithm works to <a\n",
    "href=\"http://neuralnetworksanddeeplearning.com/chap1.html\">classify\n",
    "images of handwritten digits</a>, from the well-known (\"MNIST\")\n",
    "dataset, buiding on your thoughts from lab about extracting features\n",
    "from images.  This exercise will highlight how important feature\n",
    "extraction is, before linear classification is done, using algorithms\n",
    "such as the perceptron.\n",
    "\n",
    "<b>Dataset setup</b>\n",
    "\n",
    "Often, it may be easier to work with a vector whose spatial orientation is preserved.\n",
    "In previous parts, we have represented features as one long feature vector.\n",
    "For images, however, we often represent a $m$ by $n$ image\n",
    "as a `(m,n)` array, rather than a `(mn,1)` array\n",
    "(as the previous parts have done).\n",
    "\n",
    "In the code file, we have supplied you with the `load_mnist_data` function,\n",
    "which will read from the provided image files and populate a dictionary,\n",
    "with image and label vectors for each numerical digit from 0 to 9.\n",
    "These images are already shaped as `(m,n)` arrays."
   ]
  },
  {
   "cell_type": "code",
   "execution_count": 39,
   "metadata": {
    "colab": {
     "base_uri": "https://localhost:8080/"
    },
    "id": "_6xT_UA2cJMe",
    "outputId": "147c0b25-d0d5-488a-e57e-f1eb128593f5"
   },
   "outputs": [
    {
     "name": "stdout",
     "output_type": "stream",
     "text": [
      "mnist_data_all loaded. shape of single images is (28, 28)\n"
     ]
    }
   ],
   "source": [
    "mnist_data_all = hw3.load_mnist_data(range(10))\n",
    "\n",
    "print('mnist_data_all loaded. shape of single images is', mnist_data_all[0][\"images\"][0].shape)\n",
    "\n",
    "def get_two_images(image_0, image_1):\n",
    "    # HINT: change the [0] and [1] if you want to access different images\n",
    "    d0 = mnist_data_all[image_0][\"images\"]\n",
    "    d1 = mnist_data_all[image_1][\"images\"]\n",
    "    y0 = np.repeat(-1, len(d0)).reshape(1,-1)\n",
    "    y1 = np.repeat(1, len(d1)).reshape(1,-1)\n",
    "#     y0 = mnist_data_all[image_0][\"labels\"]\n",
    "#     y1 = mnist_data_all[image_1][\"labels\"]\n",
    "\n",
    "    # data goes into the feature computation functions\n",
    "    data = np.vstack((d0, d1))\n",
    "    # labels can directly go into the perceptron algorithm\n",
    "    labels = np.vstack((y0.T, y1.T)).T\n",
    "    return data, labels"
   ]
  },
  {
   "cell_type": "code",
   "execution_count": 225,
   "metadata": {
    "collapsed": true,
    "id": "vsX_9X7Nb0NW"
   },
   "outputs": [],
   "source": [
    "def xval_learning_alg(learner, data, labels, k):\n",
    "    _, n = data.shape\n",
    "    idx = list(range(n))\n",
    "    np.random.seed(0)\n",
    "    np.random.shuffle(idx)\n",
    "    data, labels = data[:,idx], labels[:,idx]\n",
    "\n",
    "    s_data = np.array_split(data, k, axis=1)\n",
    "    s_labels = np.array_split(labels, k, axis=1)\n",
    "\n",
    "    score_sum = 0\n",
    "    for i in range(k):\n",
    "        data_train = np.concatenate(s_data[:i] + s_data[i+1:], axis=1)\n",
    "        labels_train = np.concatenate(s_labels[:i] + s_labels[i+1:], axis=1)\n",
    "        data_test = np.array(s_data[i])\n",
    "        labels_test = np.array(s_labels[i])\n",
    "        score_sum += eval_classifier(learner, data_train, labels_train,\n",
    "                                              data_test, labels_test)\n",
    "    return score_sum/k\n",
    "    \n",
    "# change these implementations to support whole datasets\n",
    "\n",
    "def raw_mnist_features(x):\n",
    "    \"\"\"\n",
    "    @param x (n_samples,m,n) array with values in (0,1)\n",
    "    @return (m*n,n_samples) reshaped array where each entry is preserved\n",
    "    \"\"\"\n",
    "    n_samples, m, n = x.shape\n",
    "    return x.reshape(n_samples, m*n).T\n",
    "    raise Exception(\"implement me!\")\n",
    "\n",
    "def row_average_features(x):\n",
    "    \"\"\"\n",
    "    This should either use or modify your code from the tutor questions.\n",
    "\n",
    "    @param x (n_samples,m,n) array with values in (0,1)\n",
    "    @return (m,n_samples) array where each entry is the average of a row\n",
    "    \"\"\"\n",
    "    n_samples, m, n = x.shape\n",
    "    return np.mean(x, axis = 2, keepdims=True)[:, :, 0].T\n",
    "    raise Exception(\"modify me!\")\n",
    "\n",
    "\n",
    "def col_average_features(x):\n",
    "    \"\"\"\n",
    "    This should either use or modify your code from the tutor questions.\n",
    "\n",
    "    @param x (n_samples,m,n) array with values in (0,1)\n",
    "    @return (n,n_samples) array where each entry is the average of a column\n",
    "    \"\"\"\n",
    "    n_samples, m, n = x.shape\n",
    "    return np.mean(x, axis=1, keepdims = True).T[:, 0, :]\n",
    "    raise Exception(\"modify me!\")\n",
    "\n",
    "\n",
    "def top_bottom_features(x):\n",
    "    \"\"\"\n",
    "    This should either use or modify your code from the tutor questions.\n",
    "\n",
    "    @param x (n_samples,m,n) array with values in (0,1)\n",
    "    @return (2,n_samples) array where the first entry of each column is the average of the\n",
    "    top half of the image = rows 0 to floor(m/2) [exclusive]\n",
    "    and the second entry is the average of the bottom half of the image\n",
    "    = rows floor(m/2) [inclusive] to m\n",
    "    \"\"\"\n",
    "    n_samples, m, n = x.shape\n",
    "    top_ave = np.mean(row_average_features(x[:, :m//2, :]), axis=0)\n",
    "    bottom_ave = np.mean(row_average_features(x[:, m//2:, :]), axis=0)\n",
    "\n",
    "    return np.vstack((top_ave, bottom_ave))\n",
    "\n",
    "    raise Exception(\"modify me!\")"
   ]
  },
  {
   "cell_type": "code",
   "execution_count": 227,
   "metadata": {
    "colab": {
     "base_uri": "https://localhost:8080/"
    },
    "id": "9DTXfMoDgCKk",
    "outputId": "d31ba675-48ac-47d7-d9e9-e9fd37592477"
   },
   "outputs": [
    {
     "name": "stdout",
     "output_type": "stream",
     "text": [
      "[0.975, 0.8641666666666665, 0.9479166666666667, 0.6470833333333333]\n"
     ]
    }
   ],
   "source": [
    "# use this function to evaluate accuracy\n",
    "data0_1, labels0_1 = get_two_images(0, 1)\n",
    "acc0_1 = hw3.get_classification_accuracy(raw_mnist_features(data0_1), labels0_1)\n",
    "\n",
    "data2_4, labels2_4 = get_two_images(2, 4)\n",
    "acc2_4 = hw3.get_classification_accuracy(raw_mnist_features(data2_4), labels2_4)\n",
    "\n",
    "data6_8, labels6_8 = get_two_images(6, 8)\n",
    "acc6_8 = hw3.get_classification_accuracy(raw_mnist_features(data6_8), labels6_8)\n",
    "\n",
    "data9_0, labels9_0 = get_two_images(9, 0)\n",
    "acc9_0 = hw3.get_classification_accuracy(raw_mnist_features(data9_0), labels9_0)\n",
    "\n",
    "print([acc0_1, acc2_4, acc6_8, acc9_0])"
   ]
  },
  {
   "cell_type": "code",
   "execution_count": 228,
   "metadata": {
    "colab": {
     "base_uri": "https://localhost:8080/",
     "height": 283.0
    },
    "id": "JCduUy8zpUWY",
    "outputId": "05def651-c247-435c-cbc2-22369cc89d23"
   },
   "outputs": [
    {
     "name": "stdout",
     "output_type": "stream",
     "text": [
      "0.48125\n",
      "0.6375\n",
      "0.48125\n"
     ]
    }
   ],
   "source": [
    "print(hw3.get_classification_accuracy(row_average_features(data0_1), labels0_1))\n",
    "print(hw3.get_classification_accuracy(col_average_features(data0_1), labels0_1))\n",
    "print(hw3.get_classification_accuracy(top_bottom_features(data0_1), labels0_1))"
   ]
  },
  {
   "cell_type": "code",
   "execution_count": 229,
   "metadata": {
    "colab": {
     "base_uri": "https://localhost:8080/"
    },
    "id": "QfpGykx2tJhK",
    "outputId": "c2f9aee3-767c-4cdd-e876-1bd923705909"
   },
   "outputs": [
    {
     "name": "stdout",
     "output_type": "stream",
     "text": [
      "0.7754166666666668\n",
      "0.49749999999999994\n",
      "0.49749999999999994\n"
     ]
    }
   ],
   "source": [
    "print(hw3.get_classification_accuracy(row_average_features(data2_4), labels2_4))\n",
    "print(hw3.get_classification_accuracy(col_average_features(data2_4), labels2_4))\n",
    "print(hw3.get_classification_accuracy(top_bottom_features(data2_4), labels2_4))"
   ]
  },
  {
   "cell_type": "code",
   "execution_count": 223,
   "metadata": {
    "id": "E1atJflyccvC"
   },
   "outputs": [
    {
     "name": "stdout",
     "output_type": "stream",
     "text": [
      "0.92125\n",
      "0.52125\n",
      "0.5650000000000001\n"
     ]
    }
   ],
   "source": [
    "print(hw3.get_classification_accuracy(row_average_features(data6_8), labels6_8))\n",
    "print(hw3.get_classification_accuracy(col_average_features(data6_8), labels6_8))\n",
    "print(hw3.get_classification_accuracy(top_bottom_features(data6_8), labels6_8))"
   ]
  },
  {
   "cell_type": "code",
   "execution_count": 224,
   "metadata": {},
   "outputs": [
    {
     "name": "stdout",
     "output_type": "stream",
     "text": [
      "0.49749999999999994\n",
      "0.5041666666666667\n",
      "0.49749999999999994\n"
     ]
    }
   ],
   "source": [
    "print(hw3.get_classification_accuracy(row_average_features(data9_0), labels9_0))\n",
    "print(hw3.get_classification_accuracy(col_average_features(data9_0), labels9_0))\n",
    "print(hw3.get_classification_accuracy(top_bottom_features(data9_0), labels9_0))"
   ]
  },
  {
   "cell_type": "code",
   "execution_count": 200,
   "metadata": {},
   "outputs": [
    {
     "data": {
      "text/plain": [
       "(9, 2, 3)"
      ]
     },
     "execution_count": 200,
     "metadata": {},
     "output_type": "execute_result"
    }
   ],
   "source": [
    "test = np.array([[[1, 2, 3], [1, 3, 4]], [[1, 3, 4], [1, 4, 5]], \n",
    "                 [[3, 3, 4], [3, 4, 5]], [[1, 1, 1], [2, 2, 2]],\n",
    "                 [[3, 3, 4], [3, 4, 5]], [[1, 1, 1], [2, 2, 2]],\n",
    "                 [[3, 3, 4], [3, 4, 5]], [[1, 1, 1], [2, 2, 2]],\n",
    "                 [[1, 1, 1], [2, 2, 2]]])\n",
    "test.shape"
   ]
  },
  {
   "cell_type": "code",
   "execution_count": 201,
   "metadata": {},
   "outputs": [
    {
     "data": {
      "text/plain": [
       "(9, 5, 3)"
      ]
     },
     "execution_count": 201,
     "metadata": {},
     "output_type": "execute_result"
    }
   ],
   "source": [
    "test = np.array([[[1, 2, 3], [1, 3, 4], [1, 3, 4], [1, 3, 4], [1, 1, 1]],\n",
    "                [[1, 3, 4], [1, 3, 4], [1, 4, 5], [1, 3, 4], [1, 1, 1]], \n",
    "                 [[3, 3, 4], [3, 4, 5], [1, 3, 4], [1, 1, 1], [1, 1, 1]], \n",
    "                 [[1, 1, 1], [2, 2, 2], [1, 3, 4], [1, 1, 1], [1, 1, 1]],\n",
    "                 [[3, 3, 4], [3, 4, 5], [1, 3, 4], [1, 1, 1], [1, 1, 1]],\n",
    "                 [[1, 1, 1], [2, 2, 2], [1, 1, 1], [1, 1, 1], [1, 1, 1]],\n",
    "                 [[3, 3, 4], [3, 4, 5], [1, 1, 1], [1, 1, 1], [1, 1, 1]], \n",
    "                 [[1, 1, 1], [2, 2, 2], [1, 1, 1], [1, 1, 1], [1, 1, 1]],\n",
    "                 [[1, 1, 1], [2, 2, 2], [1, 1, 1], [1, 1, 1], [1, 1, 1]]])\n",
    "test.shape"
   ]
  },
  {
   "cell_type": "code",
   "execution_count": 205,
   "metadata": {},
   "outputs": [
    {
     "data": {
      "text/plain": [
       "(2, 9)"
      ]
     },
     "execution_count": 205,
     "metadata": {},
     "output_type": "execute_result"
    }
   ],
   "source": [
    "np.vstack((np.mean(row_average_features(test[:, :5//2, :]), axis=0), \n",
    "           np.mean(row_average_features(test[:, 5//2:, :]), axis=0))).shape"
   ]
  },
  {
   "cell_type": "code",
   "execution_count": 202,
   "metadata": {},
   "outputs": [
    {
     "data": {
      "text/plain": [
       "(9,)"
      ]
     },
     "execution_count": 202,
     "metadata": {},
     "output_type": "execute_result"
    }
   ],
   "source": [
    "np.mean(row_average_features(test[:, :5//2,:]), axis =0).shape"
   ]
  },
  {
   "cell_type": "code",
   "execution_count": 203,
   "metadata": {},
   "outputs": [
    {
     "data": {
      "text/plain": [
       "(9,)"
      ]
     },
     "execution_count": 203,
     "metadata": {},
     "output_type": "execute_result"
    }
   ],
   "source": [
    "np.mean(row_average_features(test[:, 5//2:, :]), axis = 0).shape"
   ]
  },
  {
   "cell_type": "code",
   "execution_count": 191,
   "metadata": {},
   "outputs": [
    {
     "data": {
      "text/plain": [
       "array([], shape=(9, 0, 3), dtype=int64)"
      ]
     },
     "execution_count": 191,
     "metadata": {},
     "output_type": "execute_result"
    }
   ],
   "source": [
    "test[:, 9//2:, :]"
   ]
  },
  {
   "cell_type": "code",
   "execution_count": null,
   "metadata": {
    "collapsed": true
   },
   "outputs": [],
   "source": [
    ""
   ]
  }
 ],
 "metadata": {
  "colab": {
   "collapsed_sections": [],
   "name": "MIT6.036 hw03 colab notebook",
   "provenance": []
  },
  "kernelspec": {
   "display_name": "Python 3",
   "language": "python",
   "name": "python3"
  },
  "language_info": {
   "codemirror_mode": {
    "name": "ipython",
    "version": 3.0
   },
   "file_extension": ".py",
   "mimetype": "text/x-python",
   "name": "python",
   "nbconvert_exporter": "python",
   "pygments_lexer": "ipython3",
   "version": "3.6.7"
  }
 },
 "nbformat": 4,
 "nbformat_minor": 0
}