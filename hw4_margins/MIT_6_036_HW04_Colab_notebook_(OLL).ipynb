{
 "cells": [
  {
   "cell_type": "markdown",
   "metadata": {
    "id": "Wmv3jlgr4_Ji"
   },
   "source": [
    "# MIT 6.036 Spring 2019: Homework 4\n",
    "This homework does not include provided Python code. Instead, we\n",
    "encourage you to write your own code to help you answer some of these\n",
    "problems, and/or test and debug the code components we do ask for.\n",
    "Some of the problems below are simple enough that hand calculation\n",
    "should be possible; your hand solutions can serve as test cases for\n",
    "your code.  You may also find that including utilities written in\n",
    "previous labs (like a `sd` or signed distance function) will be\n",
    "helpful, as you build up additional functions and utilities for\n",
    "calculation of margins, different loss functions, gradients, and other\n",
    "functions needed for margin maximization and gradient descent."
   ]
  },
  {
   "cell_type": "code",
   "execution_count": 1,
   "metadata": {
    "id": "N622h8-D5i-M"
   },
   "outputs": [],
   "source": [
    "import numpy as np"
   ]
  },
  {
   "cell_type": "markdown",
   "metadata": {
    "id": "QIa5Xtg-vpMX"
   },
   "source": [
    "## 1) Margin\n",
    "\n",
    "WHen we train a classifier, it is desirable for the classifier to have a large margin with regard to the points in our data set, in the hope that this will make the classifier more robust to any new points we might see.\n",
    "\n",
    "We have previously defined the margin of a single example (a single datapoint) with respect to a separator, but that does not directly indicate whether a separator will perform well on a large data set. Thus, we would like to find a score function $S$ for a separator $(\\theta, \\theta_0)$, such that maximizing $S$ leads to a better separator.\n",
    "\n",
    "Marge Inovera suggests that because big margins are good, we should maximize the sum of the margins. So, she defines:\n",
    "$$S_{sum}(\\theta, \\theta_0) = \\sum_{i}\\gamma (x^{(i)}, y^{(i)}, \\theta, \\theta_0)$$\n",
    "\n",
    "Minnie Malle suggest that it would be better to just worry about the points closest to the margins, and defines:\n",
    "$$S_{min}(\\theta, \\theta_0) = min_{i} \\gamma(x^{(i)}, y^{(i}), \\theta, \\theta_0)$$\n",
    "\n",
    "Maxim Argent suggests:\n",
    "$$S_{max}(\\theta, \\theta_0) = max_{i} \\gamma (x^{(i)}, y^{(i)}, \\theta, \\theta_0)$$.\n",
    "\n",
    "Recall that the margin of a given point is defined as\n",
    "$$\\gamma(x, y, \\theta, \\theta_0) = \\frac{y(\\theta.x + \\theta_0)}{||\\theta||}$$\n"
   ]
  },
  {
   "cell_type": "code",
   "execution_count": 91,
   "metadata": {
    "id": "c_qconn4v9xD"
   },
   "outputs": [],
   "source": [
    "# helper functions\n",
    "def hypo(x, th, th0):\n",
    "    return np.dot(np.transpose(th), x) + np.transpose(th0)\n",
    "\n",
    "def length(d_by_m):\n",
    "    return np.sum(d_by_m * d_by_m, axis = 0, keepdims = True)**0.5\n",
    "\n",
    "# x is dimension d by n\n",
    "# th is dimension d by m\n",
    "# th0 is dimension 1 by m\n",
    "# return matrix of signed dist for each column of x and theta: dimension m x n\n",
    "def signed_dist(x, th, th0):\n",
    "    return hypo(x, th, th0) / np.transpose(length(th))\n",
    "\n",
    "data = np.array([[1, 2, 1, 2, 10, 10.3, 10.5, 10.7],\n",
    "                 [1, 1, 2, 2,  2,  2,  2, 2]])\n",
    "labels = np.array([[-1, -1, 1, 1, 1, 1, 1, 1]])\n",
    "blue_th = np.array([[0, 1]]).T\n",
    "blue_th0 = -1.5\n",
    "red_th = np.array([[1, 0]]).T\n",
    "red_th0 = -2.5"
   ]
  },
  {
   "cell_type": "code",
   "execution_count": 25,
   "metadata": {
    "id": "6_UiqioiwAel",
    "outputId": "9cdd01a6-1a44-4a66-c6fe-300509d9957c",
    "colab": {
     "base_uri": "https://localhost:8080/"
    }
   },
   "outputs": [
    {
     "name": "stdout",
     "output_type": "stream",
     "text": [
      "[31.5, -1.5, 8.2]\n",
      "[4.0, 0.5, 0.5]\n"
     ]
    }
   ],
   "source": [
    "# 1a)\n",
    "margin = np.multiply(labels, signed_dist(data, red_th, red_th0))\n",
    "S_sum = np.sum(margin)\n",
    "S_min = margin.min()\n",
    "S_max = margin.max()\n",
    "\n",
    "print([S_sum, S_min, S_max])\n",
    "\n",
    "#1b)\n",
    "margin = np.multiply(labels, signed_dist(data, blue_th, blue_th0))\n",
    "S_sum = np.sum(margin)\n",
    "S_min = margin.min()\n",
    "S_max = margin.max()\n",
    "\n",
    "print([S_sum, S_min, S_max])"
   ]
  },
  {
   "cell_type": "markdown",
   "metadata": {
    "id": "vF2URa2WzOHC"
   },
   "source": [
    "# 3) Simply Inseparable"
   ]
  },
  {
   "cell_type": "code",
   "execution_count": 34,
   "metadata": {
    "id": "3BeMCX-TxDG3",
    "outputId": "cf98d18d-f705-475c-bd91-4e8e39cf531b",
    "colab": {
     "base_uri": "https://localhost:8080/"
    }
   },
   "outputs": [
    {
     "data": {
      "text/plain": [
       "[0.5999999999999996, 0, 5.0]"
      ]
     },
     "execution_count": 34,
     "metadata": {
      "tags": []
     },
     "output_type": "execute_result"
    }
   ],
   "source": [
    "data = np.array([[1.1, 1, 4],[3.1, 1, 2]])\n",
    "labels = np.array([[1, -1, -1]])\n",
    "th = np.array([[1, 1]]).T\n",
    "th0 = -4\n",
    "margin = np.multiply(labels, signed_dist(data, th, th0))\n",
    "margin_ref = 0.5*(0.5**0.5)\n",
    "L = [1 - gamma/margin_ref if gamma < margin_ref else 0 for gamma in margin.tolist()[0]]\n",
    "L"
   ]
  },
  {
   "cell_type": "code",
   "execution_count": 32,
   "metadata": {
    "id": "S9-hEx1hxDXj",
    "outputId": "d47dfe9a-acf9-429f-ecde-76f3e09c2bb6",
    "colab": {
     "base_uri": "https://localhost:8080/"
    }
   },
   "outputs": [
    {
     "data": {
      "text/plain": [
       "[0.14142135623730961, 1.414213562373095, -1.414213562373095]"
      ]
     },
     "execution_count": 32,
     "metadata": {
      "tags": []
     },
     "output_type": "execute_result"
    }
   ],
   "source": [
    "margin.tolist()[0]"
   ]
  },
  {
   "cell_type": "markdown",
   "metadata": {
    "id": "I2n67xoA9KJb"
   },
   "source": [
    "# 5) Linear SVM"
   ]
  },
  {
   "cell_type": "code",
   "execution_count": null,
   "metadata": {
    "id": "BG_DESXt9Jh6"
   },
   "outputs": [],
   "source": [
    ""
   ]
  },
  {
   "cell_type": "markdown",
   "metadata": {
    "id": "jUS51a8m5rEI"
   },
   "source": [
    "## 6) Implementing gradient descent\n",
    "In this section we will implement generic versions of gradient descent and apply these to the SVM objective.\n",
    "\n",
    "<b>Note: </b> If you need a refresher on gradient descent,\n",
    "you may want to reference\n",
    "<a href=\"https://openlearninglibrary.mit.edu/courses/course-v1:MITx+6.036+1T2019/courseware/Week4/gradient_descent/2\">this week's notes</a>.\n",
    "\n",
    "### 6.1) Implementing Gradient Descent\n",
    "We want to find the $x$ that minimizes the value of the *objective\n",
    "function* $f(x)$, for an arbitrary scalar function $f$.  The function\n",
    "$f$ will be implemented as a Python function of one argument, that\n",
    "will be a numpy column vector.  For efficiency, we will work with\n",
    "Python functions that return not just the value of $f$ at $f(x)$ but\n",
    "also return the gradient vector at $x$, that is, $\\nabla_x f(x)$.\n",
    "\n",
    "We will now implement a generic gradient descent function, `gd`, that\n",
    "has the following input arguments:\n",
    "\n",
    "* `f`: a function whose input is an `x`, a column vector, and\n",
    "  returns a scalar.\n",
    "* `df`: a function whose input is an `x`, a column vector, and\n",
    "  returns a column vector representing the gradient of `f` at `x`.\n",
    "* `x0`: an initial value of $x$, `x0`, which is a column vector.\n",
    "* `step_size_fn`: a function that is given the iteration index (an\n",
    "  integer) and returns a step size.\n",
    "* `max_iter`: the number of iterations to perform\n",
    "\n",
    "Our function `gd` returns a tuple:\n",
    "\n",
    "* `x`: the value at the final step\n",
    "* `fs`: the list of values of `f` found during all the iterations (including `f(x0)`)\n",
    "* `xs`: the list of values of `x` found during all the iterations (including `x0`)\n",
    "\n",
    "**Hint:** This is a short function!\n",
    "\n",
    "**Hint 2:** If you do `temp_x = x` where `x` is a vector\n",
    "(numpy array), then `temp_x` is just another name for the same vector\n",
    "as `x` and changing an entry in one will change an entry in the other.\n",
    "You should either use `x.copy()` or remember to change entries back after modification.\n",
    "\n",
    "Some utilities you may find useful are included below."
   ]
  },
  {
   "cell_type": "code",
   "execution_count": 35,
   "metadata": {
    "id": "fYOF0HS34YOj"
   },
   "outputs": [],
   "source": [
    "def rv(value_list):\n",
    "    return np.array([value_list])\n",
    "\n",
    "def cv(value_list):\n",
    "    return np.transpose(rv(value_list))\n",
    "\n",
    "def f1(x):\n",
    "    return float((2 * x + 3)**2)\n",
    "\n",
    "def df1(x):\n",
    "    return 2 * 2 * (2 * x + 3)\n",
    "\n",
    "def f2(v):\n",
    "    x = float(v[0]); y = float(v[1])\n",
    "    return (x - 2.) * (x - 3.) * (x + 3.) * (x + 1.) + (x + y -1)**2\n",
    "\n",
    "def df2(v):\n",
    "    x = float(v[0]); y = float(v[1])\n",
    "    return cv([(-3. + x) * (-2. + x) * (1. + x) + \\\n",
    "               (-3. + x) * (-2. + x) * (3. + x) + \\\n",
    "               (-3. + x) * (1. + x) * (3. + x) + \\\n",
    "               (-2. + x) * (1. + x) * (3. + x) + \\\n",
    "               2 * (-1. + x + y),\n",
    "               2 * (-1. + x + y)])"
   ]
  },
  {
   "cell_type": "markdown",
   "metadata": {
    "id": "s03NFuxG6kvt"
   },
   "source": [
    "The main function to implement is `gd`, defined below."
   ]
  },
  {
   "cell_type": "code",
   "execution_count": 44,
   "metadata": {
    "id": "mNsLE3bg6jt9"
   },
   "outputs": [],
   "source": [
    "def gd(f, df, x0, step_size_fn, max_iter):\n",
    "  x = x0.copy()\n",
    "  fs = []\n",
    "  xs = []\n",
    "  for i in range(max_iter):\n",
    "    fs.append(f(x))\n",
    "    xs.append(x)\n",
    "    x_new = x - step_size_fn(i)*df(x)\n",
    "    x = x_new \n",
    "  xs.append(x)\n",
    "  return (x, fs, xs)\n",
    "  pass"
   ]
  },
  {
   "cell_type": "markdown",
   "metadata": {
    "id": "jXu60n-H5_Hz"
   },
   "source": [
    "To evaluate results, we also use a simple `package_ans` function,\n",
    "which checks the final `x`, as well as the first and last values in\n",
    "`fs`, `xs`."
   ]
  },
  {
   "cell_type": "code",
   "execution_count": 38,
   "metadata": {
    "id": "GJcClaqN4nE6"
   },
   "outputs": [],
   "source": [
    "def package_ans(gd_vals):\n",
    "    x, fs, xs = gd_vals\n",
    "    return [x.tolist(), [fs[0], fs[-1]], [xs[0].tolist(), xs[-1].tolist()]]"
   ]
  },
  {
   "cell_type": "markdown",
   "metadata": {
    "id": "aN_XbacQ6Rue"
   },
   "source": [
    "The test cases are provided below, but you should feel free (and are encouraged!) to write more of your own."
   ]
  },
  {
   "cell_type": "code",
   "execution_count": 45,
   "metadata": {
    "id": "jq0OJLEf6Dan"
   },
   "outputs": [],
   "source": [
    "# Test case 1\n",
    "ans=package_ans(gd(f1, df1, cv([0.]), lambda i: 0.1, 1000))\n",
    "\n",
    "# Test case 2\n",
    "ans=package_ans(gd(f2, df2, cv([0., 0.]), lambda i: 0.01, 1000))"
   ]
  },
  {
   "cell_type": "code",
   "execution_count": 46,
   "metadata": {
    "id": "YVuapq0kLg-a",
    "outputId": "b4c0ce10-41a9-483c-ae6a-22ab71d3915d",
    "colab": {
     "base_uri": "https://localhost:8080/"
    }
   },
   "outputs": [
    {
     "data": {
      "text/plain": [
       "[[[-2.2058239041648853], [3.205823890926977]],\n",
       " [19.0, -20.96723961134875],\n",
       " [[[0.0], [0.0]], [[-2.2058239041648853], [3.205823890926977]]]]"
      ]
     },
     "execution_count": 46,
     "metadata": {
      "tags": []
     },
     "output_type": "execute_result"
    }
   ],
   "source": [
    "ans"
   ]
  },
  {
   "cell_type": "markdown",
   "metadata": {
    "id": "pbuSt5hY645k"
   },
   "source": [
    "### 6.2) Numerical Gradient\n",
    "Getting the analytic gradient correct for complicated functions is\n",
    "tricky.  A very handy method of verifying the analytic gradient or\n",
    "even substituting for it is to estimate the gradient at a point by\n",
    "means of *finite differences*.\n",
    "\n",
    "Assume that we are given a function $f(x)$ that takes a column vector\n",
    "as its argument and returns a scalar value.  In gradient descent, we\n",
    "will want to estimate the gradient of $f$ at a particular $x_0.$\n",
    "\n",
    "The $i^{th}$ component of $\\nabla_x f(x_0)$ can be estimated as\n",
    "$$\\frac{f(x_0+\\delta^{i}) - f(x_0-\\delta^{i})}{2\\delta}$$\n",
    "where $\\delta^{i}$ is a column vector whose $i^{th}$ coordinate is\n",
    "$\\delta$, a small constant such as 0.001, and whose other components\n",
    "are zero.\n",
    "Note that adding or subtracting $\\delta^{i}$ is the same as\n",
    "incrementing or decrementing the $i^{th}$ component of $x_0$ by\n",
    "$\\delta$, leaving the other components of $x_0$ unchanged.  Using\n",
    "these results, we can estimate the $i^{th}$ component of the gradient.\n",
    "\n",
    "For example, if $x_0 = (1,1,\\dots,1)^T$ and $\\delta = 0.01$,\n",
    "we may approximate the first component of $\\nabla_x f(x_0)$ as\n",
    "$$\\frac{f((1,1,1,\\dots)^T+(0.01,0,0,\\dots)^T) - f((1,1,1,\\dots)^T-(0.01,0,0,\\dots)^T)}{2\\cdot 0.01}.$$\n",
    "(We add the transpose so that these are column vectors.)\n",
    "**This process should be done for each dimension independently,\n",
    "and together the results of each computation are compiled to give the\n",
    "estimated gradient, which is $d$ dimensional.**\n",
    "\n",
    "Implement this as a function `num_grad` that takes as arguments the\n",
    "objective function `f` and a value of `delta`, and returns a new\n",
    "**function** that takes an `x` (a column vector of parameters) and\n",
    "returns a gradient column vector.\n",
    "\n",
    "**Note:** As in the previous part, make sure you do not modify your input vector."
   ]
  },
  {
   "cell_type": "code",
   "execution_count": 62,
   "metadata": {
    "id": "WPVwGZ-l6XvW"
   },
   "outputs": [],
   "source": [
    "def num_grad(f, delta=0.001):\n",
    "    def df(x):\n",
    "      g = np.zeros(x.shape)\n",
    "      for i in range(x.shape[0]):\n",
    "        xi = x[i,0]\n",
    "        x[i,0] = xi - delta\n",
    "        fxm = f(x)\n",
    "        x[i,0] = xi + delta\n",
    "        fxp = f(x)\n",
    "        x[i,0] = xi\n",
    "        g[i,0] = (fxp - fxm)/(2*delta)\n",
    "      return g\n",
    "    return df"
   ]
  },
  {
   "cell_type": "markdown",
   "metadata": {
    "id": "kElTR0bL7cbG"
   },
   "source": [
    "The test cases are shown below; these use the functions defined in the previous exercise.\n"
   ]
  },
  {
   "cell_type": "code",
   "execution_count": 70,
   "metadata": {
    "id": "jcHJqScbNCka",
    "outputId": "24e266a6-9094-4d30-98f5-8c1004898391",
    "colab": {
     "base_uri": "https://localhost:8080/"
    }
   },
   "outputs": [
    {
     "data": {
      "text/plain": [
       "([[4.7739994000011166], [-2.000000000000668]], [[0.1], [-0.1]])"
      ]
     },
     "execution_count": 70,
     "metadata": {
      "tags": []
     },
     "output_type": "execute_result"
    }
   ],
   "source": [
    "ans"
   ]
  },
  {
   "cell_type": "code",
   "execution_count": 77,
   "metadata": {
    "id": "3D7BHu4S7Z8D"
   },
   "outputs": [],
   "source": [
    "x = cv([0.])\n",
    "ans=(num_grad(f1)(x).tolist(), x.tolist())\n",
    "\n",
    "x = cv([0.1])\n",
    "ans=(num_grad(f1)(x).tolist(), x.tolist())\n",
    "\n",
    "x = cv([0., 0.])\n",
    "ans=(num_grad(f2)(x).tolist(), x.tolist())\n",
    "\n",
    "x = cv([0.1, -0.1])\n",
    "ans=(num_grad(f2)(x).tolist(), x.tolist())"
   ]
  },
  {
   "cell_type": "markdown",
   "metadata": {
    "id": "WASaSsYu75sG"
   },
   "source": [
    "A faster (one function evaluation per entry), though sometimes less\n",
    "accurate, estimate is to use:\n",
    "$$\\frac{f(x_0+\\delta^{i}) - f(x_0)}{\\delta}$$\n",
    "for the $i^{th}$ component of $\\nabla_x f(x_0).$"
   ]
  },
  {
   "cell_type": "markdown",
   "metadata": {
    "id": "E31sdqyG78jD"
   },
   "source": [
    "### 6.3) Using the Numerical Gradient\n",
    "Recall that our generic gradient descent function takes both a function\n",
    "`f` that returns the value of our function at a given point, and `df`,\n",
    "a function that returns a gradient at a given point.  Write a function\n",
    "`minimize` that takes only a function `f` and uses this function and\n",
    "numerical gradient descent to return the local minimum.  We have\n",
    "provided you with our implementations of `num_grad` and `gd`, so you\n",
    "should not redefine them in the code box below.\n",
    "You may use the default of `delta=0.001` for `num_grad`.\n",
    "\n",
    "**Hint:** Your definition of `minimize` should call `num_grad` exactly\n",
    "once, to return a function that is called many times.\n",
    "You should return the same outputs as `gd`."
   ]
  },
  {
   "cell_type": "code",
   "execution_count": 80,
   "metadata": {
    "id": "CStwqDem76Bx"
   },
   "outputs": [],
   "source": [
    "def minimize(f, x0, step_size_fn, max_iter):\n",
    "  df = num_grad(f)\n",
    "  return gd(f, df, x0, step_size_fn, max_iter)"
   ]
  },
  {
   "cell_type": "code",
   "execution_count": 83,
   "metadata": {
    "id": "BJM2L2OGRthS",
    "outputId": "d9267422-3c71-425d-e9cc-849cdd3a443c",
    "colab": {
     "base_uri": "https://localhost:8080/"
    }
   },
   "outputs": [
    {
     "data": {
      "text/plain": [
       "[[[-2.2058237062057517], [3.205823692967833]],\n",
       " [19.0, -20.967239611347775],\n",
       " [[[0.0], [0.0]], [[-2.2058237062057517], [3.205823692967833]]]]"
      ]
     },
     "execution_count": 83,
     "metadata": {
      "tags": []
     },
     "output_type": "execute_result"
    }
   ],
   "source": [
    "ans"
   ]
  },
  {
   "cell_type": "markdown",
   "metadata": {
    "id": "4gl0FTby8EQq"
   },
   "source": [
    "The test cases are below."
   ]
  },
  {
   "cell_type": "code",
   "execution_count": 82,
   "metadata": {
    "id": "UxBLWJFm8DnV"
   },
   "outputs": [],
   "source": [
    "ans = package_ans(minimize(f1, cv([0.]), lambda i: 0.1, 1000))\n",
    "\n",
    "ans = package_ans(minimize(f2, cv([0., 0.]), lambda i: 0.01, 1000))"
   ]
  },
  {
   "cell_type": "markdown",
   "metadata": {
    "id": "BH-1e98V8LtM"
   },
   "source": [
    "## 7) Applying gradient descent to SVM objective\n",
    "\n",
    "**Note:** In this section,\n",
    "you will code many individual functions, each of which depends on previous ones.\n",
    "We **strongly recommend** that you test each of the components on your own to debug.\n",
    "\n",
    "### 7.1) Calculating the SVM objective\n",
    "\n",
    "Implement the single-argument hinge function, which computes $L_h$,\n",
    "and use that to implement hinge loss for a data point and separator.\n",
    "Using the latter function, implement the SVM objective.\n",
    "Note that these functions should work for matrix/vector arguments,\n",
    "so that we can compute the objective for a whole dataset with one call.\n",
    "<pre> x is d x n, y is 1 x n, th is d x 1, th0 is 1 x 1, lam is a scalar </pre>\n",
    "\n",
    "Hint: Look at `np.where` for implementing `hinge`."
   ]
  },
  {
   "cell_type": "code",
   "execution_count": 118,
   "metadata": {
    "id": "F_6E78BF8e2W"
   },
   "outputs": [],
   "source": [
    "def hinge(v):\n",
    "  return np.where(v < 1, 1-v, 0)\n",
    "\n",
    "# x is dxn, y is 1xn, th is dx1, th0 is 1x1\n",
    "def hinge_loss(x, y, th, th0):\n",
    "  loss = 1-np.multiply(y, signed_dist(x, th, th0))\n",
    "  return np.where(loss < 0, 0, loss)\n",
    "  # return hinge(y * np.dot(th.T, x) + th0)\n",
    "\n",
    "# x is dxn, y is 1xn, th is dx1, th0 is 1x1, lam is a scalar\n",
    "def svm_obj(x, y, th, th0, lam):\n",
    "  return np.mean(hinge_loss(x, y, th, th0)) + lam*np.linalg.norm(th)**2"
   ]
  },
  {
   "cell_type": "markdown",
   "metadata": {
    "id": "QY1NJEOP8jCC"
   },
   "source": [
    "In the test cases for this problem, we'll use the following\n",
    "`super_simple_separable` test dataset and test separator for some of\n",
    "the tests.  A couple of the test cases are also shown below."
   ]
  },
  {
   "cell_type": "code",
   "execution_count": 119,
   "metadata": {
    "id": "POFvK7zW8iYK"
   },
   "outputs": [],
   "source": [
    "def super_simple_separable():\n",
    "    X = np.array([[2, 3, 9, 12],\n",
    "                  [5, 2, 6, 5]])\n",
    "    y = np.array([[1, -1, 1, -1]])\n",
    "    return X, y\n",
    "\n",
    "sep_e_separator = np.array([[-0.40338351], [1.1849563]]), np.array([[-2.26910091]])\n",
    "\n",
    "# Test case 1\n",
    "x_1, y_1 = super_simple_separable()\n",
    "th1, th1_0 = sep_e_separator\n",
    "ans = svm_obj(x_1, y_1, th1, th1_0, .1)\n",
    "\n",
    "# Test case 2\n",
    "ans = svm_obj(x_1, y_1, th1, th1_0, 0.0)"
   ]
  },
  {
   "cell_type": "code",
   "execution_count": 120,
   "metadata": {
    "id": "muPDf4etYsoy",
    "outputId": "db573fd8-f47d-4a64-9137-9e15a0670a43",
    "colab": {
     "base_uri": "https://localhost:8080/"
    }
   },
   "outputs": [
    {
     "data": {
      "text/plain": [
       "0.050082168283632184"
      ]
     },
     "execution_count": 120,
     "metadata": {
      "tags": []
     },
     "output_type": "execute_result"
    }
   ],
   "source": [
    "ans"
   ]
  },
  {
   "cell_type": "markdown",
   "metadata": {
    "id": "ZjBB0R4u8tF1"
   },
   "source": [
    "### 7.2) Calculating the SVM gradient\n",
    "\n",
    "Define a function `svm_obj_grad` that returns the gradient of the SVM\n",
    "objective function with respect to $\\theta$ and $\\theta_0$ in a single\n",
    "column vector.  The last component of the gradient vector should be\n",
    "the partial derivative with respect to $\\theta_0$.  Look at\n",
    "`np.vstack` as a simple way of stacking two matrices/vectors\n",
    "vertically.  We have broken it down into pieces that mimic steps in\n",
    "the chain rule; this leads to code that is a bit inefficient but\n",
    "easier to write and debug.  We can worry about efficiency later."
   ]
  },
  {
   "cell_type": "code",
   "execution_count": 159,
   "metadata": {
    "id": "lAtDiGVK8vnt"
   },
   "outputs": [],
   "source": [
    "# Returns the gradient of hinge(v) with respect to v.\n",
    "def d_hinge(v):\n",
    "\n",
    "    return np.where(v >= 1, 0, -1)\n",
    "\n",
    "# Returns the gradient of hinge_loss(x, y, th, th0) with respect to th\n",
    "def d_hinge_loss_th(x, y, th, th0):\n",
    "    loss = 1-np.multiply(y, signed_dist(x, th, th0))\n",
    "    grad = -y*x\n",
    "    return np.where(loss < 0, 0, grad)\n",
    "    # return d_hinge(y*np.dot(th.T, x) + th0))*y*x\n",
    "\n",
    "# Returns the gradient of hinge_loss(x, y, th, th0) with respect to th0\n",
    "def d_hinge_loss_th0(x, y, th, th0):\n",
    "    loss = 1-np.multiply(y, signed_dist(x, th, th0))\n",
    "    grad = -y\n",
    "    return np.where(loss < 0, 0, grad)\n",
    "    # return d_hinge(y*(np.dot(th.T, x) + th0))*y\n",
    "\n",
    "# Returns the gradient of svm_obj(x, y, th, th0) with respect to th\n",
    "def d_svm_obj_th(x, y, th, th0, lam):\n",
    "    \n",
    "    return np.mean(d_hinge_loss_th(x, y, th, th0), keepdims = True) + 2*lam*th\n",
    "\n",
    "# Returns the gradient of svm_obj(x, y, th, th0) with respect to th0\n",
    "def d_svm_obj_th0(x, y, th, th0, lam):\n",
    "    return np.mean(d_hinge_loss_th0(x, y, th, th0), keepdims = True)\n",
    "\n",
    "# Returns the full gradient as a single vector\n",
    "def svm_obj_grad(X, y, th, th0, lam):\n",
    "    grad_th = d_svm_obj_th(X, y, th, th0, lam)\n",
    "    grad_th0 = d_svm_obj_th0(X, y, th, th0, lam)\n",
    "    return np.vstack((grad_th, grad_th0))"
   ]
  },
  {
   "cell_type": "code",
   "execution_count": null,
   "metadata": {
    "id": "OPjFac-nY1Z4"
   },
   "outputs": [],
   "source": [
    "# add your tests here"
   ]
  },
  {
   "cell_type": "markdown",
   "metadata": {
    "id": "LDP6H_2P80vm"
   },
   "source": [
    "Some test cases that may be of use are shown below."
   ]
  },
  {
   "cell_type": "code",
   "execution_count": 160,
   "metadata": {
    "id": "xNuF6-c38yji"
   },
   "outputs": [],
   "source": [
    "X1 = np.array([[1, 2, 3, 9, 10]])\n",
    "y1 = np.array([[1, 1, 1, -1, -1]])\n",
    "th1, th10 = np.array([[-0.31202807]]), np.array([[1.834     ]])\n",
    "X2 = np.array([[2, 3, 9, 12],\n",
    "               [5, 2, 6, 5]])\n",
    "y2 = np.array([[1, -1, 1, -1]])\n",
    "th2, th20=np.array([[ -3.,  15.]]).T, np.array([[ 2.]])"
   ]
  },
  {
   "cell_type": "code",
   "execution_count": 161,
   "metadata": {
    "id": "tZ9Q6k935tLY",
    "outputId": "ad991380-13b0-4348-a2b1-db4e0219293a",
    "colab": {
     "base_uri": "https://localhost:8080/"
    }
   },
   "outputs": [
    {
     "data": {
      "text/plain": [
       "[[0, -1]]"
      ]
     },
     "execution_count": 161,
     "metadata": {
      "tags": []
     },
     "output_type": "execute_result"
    }
   ],
   "source": [
    "d_hinge(np.array([[ 71.]])).tolist()\n",
    "d_hinge(np.array([[ -23.]])).tolist()\n",
    "d_hinge(np.array([[ 71, -23.]])).tolist()"
   ]
  },
  {
   "cell_type": "code",
   "execution_count": 162,
   "metadata": {
    "id": "5fcjaWEo5uWo",
    "outputId": "49dca734-86ae-43d0-9867-9e5def9bbeea",
    "colab": {
     "base_uri": "https://localhost:8080/"
    }
   },
   "outputs": [
    {
     "data": {
      "text/plain": [
       "[[0, 1, 0, 1]]"
      ]
     },
     "execution_count": 162,
     "metadata": {
      "tags": []
     },
     "output_type": "execute_result"
    }
   ],
   "source": [
    "d_hinge_loss_th(X2[:,0:1], y2[:,0:1], th2, th20).tolist()\n",
    "d_hinge_loss_th(X2, y2, th2, th20).tolist()\n",
    "d_hinge_loss_th0(X2[:,0:1], y2[:,0:1], th2, th20).tolist()\n",
    "d_hinge_loss_th0(X2, y2, th2, th20).tolist()"
   ]
  },
  {
   "cell_type": "code",
   "execution_count": 163,
   "metadata": {
    "id": "FkjrEb5y5xBU",
    "outputId": "74e88a51-a5aa-4248-a8bd-224004116d5b",
    "colab": {
     "base_uri": "https://localhost:8080/"
    }
   },
   "outputs": [
    {
     "data": {
      "text/plain": [
       "[[0.5]]"
      ]
     },
     "execution_count": 163,
     "metadata": {
      "tags": []
     },
     "output_type": "execute_result"
    }
   ],
   "source": [
    "d_svm_obj_th(X2[:,0:1], y2[:,0:1], th2, th20, 0.01).tolist()\n",
    "d_svm_obj_th(X2, y2, th2, th20, 0.01).tolist()\n",
    "d_svm_obj_th0(X2[:,0:1], y2[:,0:1], th2, th20, 0.01).tolist()\n",
    "d_svm_obj_th0(X2, y2, th2, th20, 0.01).tolist()"
   ]
  },
  {
   "cell_type": "code",
   "execution_count": 164,
   "metadata": {
    "id": "BB7axWab58Lp",
    "outputId": "a3c3a730-9fb0-474b-d825-48d3a2d10fc2",
    "colab": {
     "base_uri": "https://localhost:8080/"
    }
   },
   "outputs": [
    {
     "data": {
      "text/plain": [
       "[[-0.06], [0.3], [0.0]]"
      ]
     },
     "execution_count": 164,
     "metadata": {
      "tags": []
     },
     "output_type": "execute_result"
    }
   ],
   "source": [
    "svm_obj_grad(X2, y2, th2, th20, 0.01).tolist()\n",
    "svm_obj_grad(X2[:,0:1], y2[:,0:1], th2, th20, 0.01).tolist()"
   ]
  },
  {
   "cell_type": "markdown",
   "metadata": {
    "id": "3vf6OFEU89pC"
   },
   "source": [
    "### 7.3) Batch SVM minimize\n",
    "\n",
    "Putting it all together, use the functions you built earlier to write\n",
    "a gradient descent minimizer for the SVM objective.  You do not need\n",
    "to paste in your previous definitions; you can just call the ones\n",
    "defined by the staff.  You will need to call `gd`, which is already\n",
    "defined for you as well; your function `batch_svm_min` should return\n",
    "the values that `gd` does.\n",
    "\n",
    "* Initialize all the separator parameters to zero,\n",
    "* use the step size function provided below, and\n",
    "* specify 10 iterations."
   ]
  },
  {
   "cell_type": "code",
   "execution_count": 165,
   "metadata": {
    "id": "dIqWIYnq8_Nb"
   },
   "outputs": [],
   "source": [
    "def batch_svm_min(data, labels, lam):\n",
    "    def svm_min_step_size_fn(i):\n",
    "       return 2/(i+1)**0.5\n",
    "\n",
    "    th_init = np.zeros((data.shape[0] + 1, 1))\n",
    "\n",
    "    def f(th):\n",
    "      return svm_obj(data, labels, th[:-1, :], th[-1:, :], lam)\n",
    "\n",
    "    def df(th):\n",
    "      return svm_obj_grad(data, labels, th[:-1, :], th[-1:, :], lam)\n",
    "\n",
    "    return gd(f, df, th_init, svm_min_step_size_fn, 10)"
   ]
  },
  {
   "cell_type": "code",
   "execution_count": 169,
   "metadata": {
    "id": "S6rK8LWe8p_y"
   },
   "outputs": [],
   "source": [
    "def batch_svm_min(data, labels, lam):\n",
    "    def svm_min_step_size_fn(i):\n",
    "       return 2/(i+1)**0.5\n",
    "    init = np.zeros((data.shape[0] + 1, 1))\n",
    "\n",
    "    def f(th):\n",
    "      return svm_obj(data, labels, th[:-1, :], th[-1:,:], lam)\n",
    "\n",
    "    def df(th):\n",
    "      return svm_obj_grad(data, labels, th[:-1, :], th[-1:,:], lam)\n",
    "\n",
    "    x, fs, xs = gd(f, df, init, svm_min_step_size_fn, 10)\n",
    "    return x, fs, xs"
   ]
  },
  {
   "cell_type": "markdown",
   "metadata": {
    "id": "JH4xd7C-9BIm"
   },
   "source": [
    "Test cases are shown below, where an additional separable test\n",
    "data set has been specified."
   ]
  },
  {
   "cell_type": "code",
   "execution_count": 170,
   "metadata": {
    "id": "HgOC_i879Acd",
    "outputId": "ba71caf2-80fd-4686-fdc5-efffad3feea2",
    "colab": {
     "base_uri": "https://localhost:8080/"
    }
   },
   "outputs": [
    {
     "name": "stderr",
     "output_type": "stream",
     "text": [
      "/usr/local/lib/python3.6/dist-packages/ipykernel_launcher.py:13: RuntimeWarning: invalid value encountered in true_divide\n",
      "  del sys.path[0]\n",
      "/usr/local/lib/python3.6/dist-packages/ipykernel_launcher.py:7: RuntimeWarning: invalid value encountered in less\n",
      "  import sys\n",
      "/usr/local/lib/python3.6/dist-packages/ipykernel_launcher.py:10: RuntimeWarning: invalid value encountered in less\n",
      "  # Remove the CWD from sys.path while we load stuff.\n",
      "/usr/local/lib/python3.6/dist-packages/ipykernel_launcher.py:17: RuntimeWarning: invalid value encountered in less\n"
     ]
    }
   ],
   "source": [
    "def separable_medium():\n",
    "    X = np.array([[2, -1, 1, 1],\n",
    "                  [-2, 2, 2, -1]])\n",
    "    y = np.array([[1, -1, 1, -1]])\n",
    "    return X, y\n",
    "sep_m_separator = np.array([[ 2.69231855], [ 0.67624906]]), np.array([[-3.02402521]])\n",
    "\n",
    "x_1, y_1 = super_simple_separable()\n",
    "ans = package_ans(batch_svm_min(x_1, y_1, 0.0001))\n",
    "\n",
    "x_1, y_1 = separable_medium()\n",
    "ans = package_ans(batch_svm_min(x_1, y_1, 0.0001))"
   ]
  },
  {
   "cell_type": "markdown",
   "metadata": {
    "id": "4tFslLvo5X9w"
   },
   "source": [
    "### 7.4) Numerical SVM objective (Optional)\n",
    "\n",
    "Recall from the previous question that we were able to closely approximate gradients\n",
    "with numerical estimates.\n",
    "We may apply the same technique to optimize the SVM objective.\n",
    "\n",
    "Using your definition of `minimize` and `num_grad` from the previous problem,\n",
    "implement a function that optimizes the SVM objective through numeric approximations.\n",
    "\n",
    "How well does this function perform, compared to the analytical result?\n",
    "Consider both accuracy and runtime."
   ]
  },
  {
   "cell_type": "code",
   "execution_count": 172,
   "metadata": {
    "id": "bLt1LwN05b3k"
   },
   "outputs": [],
   "source": [
    "# your code here\n",
    "def num_svm_min(data, labels, lam):\n",
    "  def svm_min_step_size_fn(i):\n",
    "       return 2/(i+1)**0.5\n",
    "  init = np.zeros((data.shape[0] + 1, 1))\n",
    "\n",
    "  def f(th):\n",
    "    return svm_obj(data, labels, th[:-1, :], th[-1:,:], lam)\n",
    "\n",
    "  x, fs, xs = minimize(f, init, svm_min_step_size_fn, 10)\n",
    "  return x, fs, xs"
   ]
  },
  {
   "cell_type": "code",
   "execution_count": 173,
   "metadata": {
    "id": "ubhT50A29OcM",
    "outputId": "80397d89-d4fb-49da-9189-9abf2c1d5a16",
    "colab": {
     "base_uri": "https://localhost:8080/"
    }
   },
   "outputs": [
    {
     "name": "stderr",
     "output_type": "stream",
     "text": [
      "/usr/local/lib/python3.6/dist-packages/ipykernel_launcher.py:13: RuntimeWarning: invalid value encountered in true_divide\n",
      "  del sys.path[0]\n",
      "/usr/local/lib/python3.6/dist-packages/ipykernel_launcher.py:7: RuntimeWarning: invalid value encountered in less\n",
      "  import sys\n",
      "/usr/local/lib/python3.6/dist-packages/ipykernel_launcher.py:13: RuntimeWarning: divide by zero encountered in true_divide\n",
      "  del sys.path[0]\n",
      "/usr/local/lib/python3.6/dist-packages/ipykernel_launcher.py:11: RuntimeWarning: invalid value encountered in double_scalars\n",
      "  # This is added back by InteractiveShellApp.init_path()\n"
     ]
    },
    {
     "data": {
      "text/plain": [
       "(array([[nan],\n",
       "        [nan],\n",
       "        [nan]]),\n",
       " [nan, nan, nan, nan, nan, nan, nan, nan, nan, nan],\n",
       " [array([[0.],\n",
       "         [0.],\n",
       "         [0.]]), array([[1250.],\n",
       "         [-250.],\n",
       "         [  nan]]), array([[nan],\n",
       "         [nan],\n",
       "         [nan]]), array([[nan],\n",
       "         [nan],\n",
       "         [nan]]), array([[nan],\n",
       "         [nan],\n",
       "         [nan]]), array([[nan],\n",
       "         [nan],\n",
       "         [nan]]), array([[nan],\n",
       "         [nan],\n",
       "         [nan]]), array([[nan],\n",
       "         [nan],\n",
       "         [nan]]), array([[nan],\n",
       "         [nan],\n",
       "         [nan]]), array([[nan],\n",
       "         [nan],\n",
       "         [nan]]), array([[nan],\n",
       "         [nan],\n",
       "         [nan]])])"
      ]
     },
     "execution_count": 173,
     "metadata": {
      "tags": []
     },
     "output_type": "execute_result"
    }
   ],
   "source": [
    "num_svm_min(x_1, y_1, 0.0001)"
   ]
  },
  {
   "cell_type": "code",
   "execution_count": null,
   "metadata": {
    "id": "0XP4J7lq9VLd"
   },
   "outputs": [],
   "source": [
    ""
   ]
  }
 ],
 "metadata": {
  "colab": {
   "name": "MIT 6.036 HW04 Colab notebook (OLL)",
   "provenance": [],
   "collapsed_sections": []
  },
  "kernelspec": {
   "name": "python3",
   "display_name": "Python 3"
  }
 },
 "nbformat": 4,
 "nbformat_minor": 0
}